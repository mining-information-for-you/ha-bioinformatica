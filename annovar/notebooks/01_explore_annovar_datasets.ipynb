{
 "cells": [
  {
   "cell_type": "markdown",
   "metadata": {},
   "source": [
    "# Explorando datasets ANNOVAR"
   ]
  },
  {
   "cell_type": "code",
   "execution_count": 1,
   "metadata": {},
   "outputs": [],
   "source": [
    "import pyspark"
   ]
  },
  {
   "cell_type": "code",
   "execution_count": 2,
   "metadata": {},
   "outputs": [],
   "source": [
    "sc = pyspark.SparkContext('local[*]')"
   ]
  },
  {
   "cell_type": "code",
   "execution_count": 3,
   "metadata": {},
   "outputs": [],
   "source": [
    "spark = pyspark.sql.SparkSession(sc).builder.appName(\"Explore ANNOVAR datasets\").getOrCreate()"
   ]
  },
  {
   "cell_type": "code",
   "execution_count": 4,
   "metadata": {},
   "outputs": [],
   "source": [
    "hg19_mcap =  sc.textFile('../data/hg19_mcap.txt')"
   ]
  },
  {
   "cell_type": "code",
   "execution_count": 5,
   "metadata": {},
   "outputs": [],
   "source": [
    "hg19_mcap_csv = hg19_mcap.map(lambda line: \";\".join(line.split(\"\\t\")) if not line.startswith(\"#\") else \";\".join([\"chromosome\", \"start\", \"end\", \"ref\", \"alt\", \"mcap\"]))"
   ]
  },
  {
   "cell_type": "code",
   "execution_count": 6,
   "metadata": {},
   "outputs": [
    {
     "data": {
      "text/plain": [
       "['chromosome;start;end;ref;alt;mcap',\n",
       " '1;69091;69091;A;T;0.00708247797993',\n",
       " '1;69091;69091;A;C;0.00708247797993',\n",
       " '1;69091;69091;A;G;0.00996425211598',\n",
       " '1;69092;69092;T;A;0.00369310043823',\n",
       " '1;69092;69092;T;C;0.00326415452909',\n",
       " '1;69092;69092;T;G;0.00369358636892',\n",
       " '1;69093;69093;G;A;0.00145301983733',\n",
       " '1;69093;69093;G;T;0.00145301983733',\n",
       " '1;69093;69093;G;C;0.00144694747062']"
      ]
     },
     "execution_count": 6,
     "metadata": {},
     "output_type": "execute_result"
    }
   ],
   "source": [
    "hg19_mcap_csv.take(10)"
   ]
  },
  {
   "cell_type": "code",
   "execution_count": 7,
   "metadata": {},
   "outputs": [],
   "source": [
    "hg19_mcap_csv.saveAsTextFile('../data/hg19_mcap.csv')"
   ]
  },
  {
   "cell_type": "code",
   "execution_count": 8,
   "metadata": {},
   "outputs": [],
   "source": [
    "hg19_map_df = spark.read.csv('../data/hg19_mcap.csv', header=True, sep=\";\")"
   ]
  },
  {
   "cell_type": "code",
   "execution_count": 9,
   "metadata": {},
   "outputs": [
    {
     "name": "stdout",
     "output_type": "stream",
     "text": [
      "+----------+-----+-----+---+---+----------------+\n",
      "|chromosome|start|  end|ref|alt|            mcap|\n",
      "+----------+-----+-----+---+---+----------------+\n",
      "|         1|69091|69091|  A|  T|0.00708247797993|\n",
      "|         1|69091|69091|  A|  C|0.00708247797993|\n",
      "|         1|69091|69091|  A|  G|0.00996425211598|\n",
      "|         1|69092|69092|  T|  A|0.00369310043823|\n",
      "|         1|69092|69092|  T|  C|0.00326415452909|\n",
      "|         1|69092|69092|  T|  G|0.00369358636892|\n",
      "|         1|69093|69093|  G|  A|0.00145301983733|\n",
      "|         1|69093|69093|  G|  T|0.00145301983733|\n",
      "|         1|69093|69093|  G|  C|0.00144694747062|\n",
      "|         1|69094|69094|  G|  A|0.00504677681045|\n",
      "|         1|69094|69094|  G|  T|0.00512526482336|\n",
      "|         1|69094|69094|  G|  C|0.00512526482336|\n",
      "|         1|69095|69095|  T|  A|0.00600421272717|\n",
      "|         1|69095|69095|  T|  C| 0.0047045259721|\n",
      "|         1|69095|69095|  T|  G| 0.0063892150463|\n",
      "|         1|69097|69097|  A|  T|0.00301640918768|\n",
      "|         1|69097|69097|  A|  C|0.00640998582146|\n",
      "|         1|69097|69097|  A|  G|0.00506998389558|\n",
      "|         1|69098|69098|  C|  A| 0.0063586586617|\n",
      "|         1|69098|69098|  C|  T|0.00679311636277|\n",
      "+----------+-----+-----+---+---+----------------+\n",
      "only showing top 20 rows\n",
      "\n"
     ]
    }
   ],
   "source": [
    "hg19_map_df.show()"
   ]
  },
  {
   "cell_type": "code",
   "execution_count": 10,
   "metadata": {},
   "outputs": [],
   "source": [
    "hg19_abraom = sc.textFile(\"../data/hg19_abraom.txt\")"
   ]
  },
  {
   "cell_type": "code",
   "execution_count": 11,
   "metadata": {},
   "outputs": [],
   "source": [
    "hg19_abraom_csv = hg19_abraom.map(lambda line: \";\".join(line.split(\"\\t\")) if not line.startswith(\"#\") else \";\".join([\"chromosome\", \"start\", \"end\", \"ref\", \"alt\", \"abraom_freq\",\n",
    "                                                                                                                   \"abraom_filter\", \"abraom_cegh_filter\"]))"
   ]
  },
  {
   "cell_type": "code",
   "execution_count": 12,
   "metadata": {},
   "outputs": [
    {
     "data": {
      "text/plain": [
       "['chromosome;start;end;ref;alt;abraom_freq;abraom_filter;abraom_cegh_filter',\n",
       " '1;13116;13116;T;G;0.010033;LowQual;FDP',\n",
       " '1;13244;13244;G;A;0.002193;LowQual;FAB',\n",
       " '1;13248;13248;C;G;0.004149;VQSRTrancheSNP99.00to99.90;FAB',\n",
       " '1;13273;13273;G;C;0.113333;VQSRTrancheSNP99.00to99.90;WK-LowCall',\n",
       " '1;13302;13302;C;T;0.017143;VQSRTrancheSNP99.00to99.90;WK-LowCall',\n",
       " '1;13380;13380;C;G;0.007782;VQSRTrancheSNP99.00to99.90;FAB',\n",
       " '1;13417;13417;-;GAGA;0.075145;PASS;WK-LowCall',\n",
       " '1;13418;13418;G;A;0.088398;VQSRTrancheSNP99.00to99.90;FAB',\n",
       " '1;13479;13479;A;T;0.003968;LowQual;FAB']"
      ]
     },
     "execution_count": 12,
     "metadata": {},
     "output_type": "execute_result"
    }
   ],
   "source": [
    "hg19_abraom_csv.take(10)"
   ]
  },
  {
   "cell_type": "code",
   "execution_count": 13,
   "metadata": {},
   "outputs": [],
   "source": [
    "hg19_abraom_csv_ordered = hg19_abraom_csv.coalesce(1)"
   ]
  },
  {
   "cell_type": "code",
   "execution_count": 14,
   "metadata": {},
   "outputs": [],
   "source": [
    "hg19_abraom_csv_ordered.saveAsTextFile(\"../data/hg19_abraom.csv\")"
   ]
  },
  {
   "cell_type": "code",
   "execution_count": 15,
   "metadata": {},
   "outputs": [],
   "source": [
    "hg19_abraom_df = spark.read.csv(\"../data/hg19_abraom.csv\", header=True, sep=\";\")"
   ]
  },
  {
   "cell_type": "code",
   "execution_count": 16,
   "metadata": {},
   "outputs": [
    {
     "name": "stdout",
     "output_type": "stream",
     "text": [
      "+----------+-----+-----+---+----+-----------+--------------------+------------------+\n",
      "|chromosome|start|  end|ref| alt|abraom_freq|       abraom_filter|abraom_cegh_filter|\n",
      "+----------+-----+-----+---+----+-----------+--------------------+------------------+\n",
      "|         1|13116|13116|  T|   G|   0.010033|             LowQual|               FDP|\n",
      "|         1|13244|13244|  G|   A|   0.002193|             LowQual|               FAB|\n",
      "|         1|13248|13248|  C|   G|   0.004149|VQSRTrancheSNP99....|               FAB|\n",
      "|         1|13273|13273|  G|   C|   0.113333|VQSRTrancheSNP99....|        WK-LowCall|\n",
      "|         1|13302|13302|  C|   T|   0.017143|VQSRTrancheSNP99....|        WK-LowCall|\n",
      "|         1|13380|13380|  C|   G|   0.007782|VQSRTrancheSNP99....|               FAB|\n",
      "|         1|13417|13417|  -|GAGA|   0.075145|                PASS|        WK-LowCall|\n",
      "|         1|13418|13418|  G|   A|   0.088398|VQSRTrancheSNP99....|               FAB|\n",
      "|         1|13479|13479|  A|   T|   0.003968|             LowQual|               FAB|\n",
      "|         1|13494|13494|  A|   G|   0.001969|VQSRTrancheSNP99....|               FAB|\n",
      "|         1|13504|13504|  G|   A|   0.004049|             LowQual|               FAB|\n",
      "|         1|13561|13561|  G|   T|   0.006173|             LowQual|               FAB|\n",
      "|         1|13868|13868|  A|   G|   0.111111|VQSRTrancheSNP99....|               FDP|\n",
      "|         1|13896|13896|  C|   A|   0.120000|VQSRTrancheSNP99....|               FDP|\n",
      "|         1|14354|14354|  C|   A|   0.500000|             LowQual|               FAB|\n",
      "|         1|14464|14464|  A|   T|   0.250000|VQSRTrancheSNP99....|        WK-LowCall|\n",
      "|         1|14522|14522|  G|   A|   0.164286|VQSRTrancheSNP99....|               FAB|\n",
      "|         1|14542|14542|  A|   G|   0.185897|VQSRTrancheSNP99....|               FAB|\n",
      "|         1|14574|14574|  A|   G|   0.101010|VQSRTrancheSNP99....|               FAB|\n",
      "|         1|14610|14610|  T|   C|   0.043796|VQSRTrancheSNP99....|               FAB|\n",
      "+----------+-----+-----+---+----+-----------+--------------------+------------------+\n",
      "only showing top 20 rows\n",
      "\n"
     ]
    }
   ],
   "source": [
    "hg19_abraom_df.show()"
   ]
  },
  {
   "cell_type": "code",
   "execution_count": 17,
   "metadata": {},
   "outputs": [],
   "source": [
    "hg19_clinvar = sc.textFile(\"../data/hg19_clinvar_20170905.txt\")"
   ]
  },
  {
   "cell_type": "code",
   "execution_count": 20,
   "metadata": {},
   "outputs": [],
   "source": [
    "hg19_clinvar_csv = hg19_clinvar.map(lambda line: \";\".join(line.split(\"\\t\")) if not line.startswith(\"#\") else \";\".join([\"chromosome\", \"start\", \"end\", \"ref\", \"alt\", \"clinsig\",\n",
    "                                                                                                                      \"clndbn\", \"clnacc\", \"clndsdb\", \"clndsdbid\"]))"
   ]
  },
  {
   "cell_type": "code",
   "execution_count": 21,
   "metadata": {},
   "outputs": [
    {
     "data": {
      "text/plain": [
       "['chromosome;start;end;ref;alt;clinsig;clndbn;clnacc;clndsdb;clndsdbid',\n",
       " '1;1;1;0;0;Pathogenic;Hereditary_cancer-predisposing_syndrome;RCV000492594.1;MedGen:SNOMED_CT;C0027672:699346009',\n",
       " '1;1;1;0;0;Pathogenic;not_provided;RCV000490008.1;MedGen;CN221809',\n",
       " '1;1;1;0;0;Uncertain significance;not_specified;RCV000489770.1;MedGen;CN169374',\n",
       " '1;949523;949523;C;T;Pathogenic;Immunodeficiency_38_with_basal_ganglia_calcification;RCV000162196.3;MedGen:OMIM:Orphanet;C4015293:616126:ORPHA319563',\n",
       " '1;949608;949608;G;A;Benign;not_specified;RCV000455759.1;MedGen;CN169374',\n",
       " '1;949696;949696;-;G;Pathogenic;Immunodeficiency_38_with_basal_ganglia_calcification;RCV000148989.5;MedGen:OMIM:Orphanet;C4015293:616126:ORPHA319563',\n",
       " '1;949739;949739;G;T;Pathogenic;Immunodeficiency_38_with_basal_ganglia_calcification;RCV000148988.5;MedGen:OMIM:Orphanet;C4015293:616126:ORPHA319563',\n",
       " '1;955563;955563;G;C;Likely benign;not_specified;RCV000424799.1;MedGen;CN169374',\n",
       " '1;955596;955596;C;G;Uncertain significance;not_provided;RCV000422793.1;MedGen;CN221809']"
      ]
     },
     "execution_count": 21,
     "metadata": {},
     "output_type": "execute_result"
    }
   ],
   "source": [
    "hg19_clinvar_csv.take(10)"
   ]
  },
  {
   "cell_type": "code",
   "execution_count": 22,
   "metadata": {},
   "outputs": [],
   "source": [
    "hg19_clinvar_csv.saveAsTextFile(\"../data/hg19_clinvar.csv\")"
   ]
  },
  {
   "cell_type": "code",
   "execution_count": 23,
   "metadata": {},
   "outputs": [],
   "source": [
    "hg19_clinvar_df = spark.read.csv(\"../data/hg19_clinvar.csv\", header=True, sep=\";\")"
   ]
  },
  {
   "cell_type": "code",
   "execution_count": 24,
   "metadata": {},
   "outputs": [
    {
     "name": "stdout",
     "output_type": "stream",
     "text": [
      "+----------+------+------+---+---+--------------------+--------------------+--------------+--------------------+--------------------+\n",
      "|chromosome| start|   end|ref|alt|             clinsig|              clndbn|        clnacc|             clndsdb|           clndsdbid|\n",
      "+----------+------+------+---+---+--------------------+--------------------+--------------+--------------------+--------------------+\n",
      "|         1|     1|     1|  0|  0|          Pathogenic|Hereditary_cancer...|RCV000492594.1|    MedGen:SNOMED_CT|  C0027672:699346009|\n",
      "|         1|     1|     1|  0|  0|          Pathogenic|        not_provided|RCV000490008.1|              MedGen|            CN221809|\n",
      "|         1|     1|     1|  0|  0|Uncertain signifi...|       not_specified|RCV000489770.1|              MedGen|            CN169374|\n",
      "|         1|949523|949523|  C|  T|          Pathogenic|Immunodeficiency_...|RCV000162196.3|MedGen:OMIM:Orphanet|C4015293:616126:O...|\n",
      "|         1|949608|949608|  G|  A|              Benign|       not_specified|RCV000455759.1|              MedGen|            CN169374|\n",
      "|         1|949696|949696|  -|  G|          Pathogenic|Immunodeficiency_...|RCV000148989.5|MedGen:OMIM:Orphanet|C4015293:616126:O...|\n",
      "|         1|949739|949739|  G|  T|          Pathogenic|Immunodeficiency_...|RCV000148988.5|MedGen:OMIM:Orphanet|C4015293:616126:O...|\n",
      "|         1|955563|955563|  G|  C|       Likely benign|       not_specified|RCV000424799.1|              MedGen|            CN169374|\n",
      "|         1|955596|955596|  C|  G|Uncertain signifi...|        not_provided|RCV000422793.1|              MedGen|            CN221809|\n",
      "|         1|955597|955597|  G|  T|              Benign|       not_specified|RCV000116272.5|              MedGen|            CN169374|\n",
      "|         1|955601|955601|  C|  T|Uncertain signifi...|       not_specified|RCV000437701.1|              MedGen|            CN169374|\n",
      "|         1|955619|955619|  G|  C|               other|       not_specified|RCV000193277.2|              MedGen|            CN169374|\n",
      "|         1|957568|957568|  A|  G|              Benign|       not_specified|RCV000250556.1|              MedGen|            CN169374|\n",
      "|         1|957605|957605|  G|  A|          Pathogenic|Congenital_myasth...|RCV000235037.1|     MedGen:Orphanet|   C0751882:ORPHA590|\n",
      "|         1|957640|957640|  C|  T|               other|       not_specified|RCV000116258.3|              MedGen|            CN169374|\n",
      "|         1|957693|957693|  A|  T|          Pathogenic|Congenital_myasth...|RCV000235021.1|     MedGen:Orphanet|   C0751882:ORPHA590|\n",
      "|         1|976059|976059|  C|  T|               other|       not_specified|RCV000195231.2|              MedGen|            CN169374|\n",
      "|         1|976554|976554|  C|  G|              Benign|       not_specified|RCV000241878.1|              MedGen|            CN169374|\n",
      "|         1|976563|976563|  C|  T|              Benign|       not_specified|RCV000246662.1|              MedGen|            CN169374|\n",
      "|         1|976577|976577|  T|  C|Uncertain signifi...|       not_specified|RCV000492793.1|              MedGen|            CN169374|\n",
      "+----------+------+------+---+---+--------------------+--------------------+--------------+--------------------+--------------------+\n",
      "only showing top 20 rows\n",
      "\n"
     ]
    }
   ],
   "source": [
    "hg19_clinvar_df.show()"
   ]
  },
  {
   "cell_type": "code",
   "execution_count": 25,
   "metadata": {},
   "outputs": [],
   "source": [
    "hg19_gnomad_exome = sc.textFile(\"../data/hg19_gnomad_exome.txt\")"
   ]
  },
  {
   "cell_type": "code",
   "execution_count": 33,
   "metadata": {},
   "outputs": [
    {
     "data": {
      "text/plain": [
       "['#Chr\\tStart\\tEnd\\tRef\\tAlt\\tgnomAD_exome_ALL\\tgnomAD_exome_AFR\\tgnomAD_exome_AMR\\tgnomAD_exome_ASJ\\tgnomAD_exome_EAS\\tgnomAD_exome_FIN\\tgnomAD_exome_NFE\\tgnomAD_exome_OTH\\tgnomAD_exome_SAS',\n",
       " '1\\t12198\\t12198\\tG\\tC\\t.\\t.\\t.\\t.\\t.\\t.\\t.\\t.\\t.',\n",
       " '1\\t12237\\t12237\\tG\\tA\\t.\\t.\\t.\\t.\\t.\\t.\\t.\\t.\\t.',\n",
       " '1\\t12259\\t12259\\tG\\tC\\t0\\t.\\t.\\t.\\t.\\t.\\t.\\t.\\t0',\n",
       " '1\\t12266\\t12266\\tG\\tA\\t.\\t.\\t.\\t.\\t.\\t.\\t.\\t.\\t.',\n",
       " '1\\t12272\\t12272\\tG\\tA\\t0\\t.\\t0\\t.\\t.\\t.\\t.\\t.\\t.',\n",
       " '1\\t12554\\t12554\\tA\\tG\\t0\\t0\\t0\\t0\\t0\\t0\\t0\\t0\\t0',\n",
       " '1\\t12559\\t12559\\tG\\tA\\t0.0051\\t0\\t0.0054\\t0\\t0.0027\\t0\\t0.0018\\t0.0122\\t0.0099',\n",
       " '1\\t12573\\t12573\\tT\\tC\\t0.0005\\t0\\t0.0028\\t0\\t0\\t0\\t0\\t0\\t0',\n",
       " '1\\t12586\\t12586\\tC\\tT\\t0.0006\\t0\\t0\\t0\\t0.0023\\t0\\t0\\t0\\t0.0009']"
      ]
     },
     "execution_count": 33,
     "metadata": {},
     "output_type": "execute_result"
    }
   ],
   "source": [
    "hg19_gnomad_exome.take(10)"
   ]
  },
  {
   "cell_type": "code",
   "execution_count": 36,
   "metadata": {},
   "outputs": [],
   "source": [
    "hg19_gnomad_exome_csv = hg19_gnomad_exome.map(lambda line: \";\".join(line.split(\"\\t\")) if not line.startswith(\"#\") else \";\".join([\"chromosome\", \"start\", \"end\", \"ref\", \"alt\",\n",
    "                                                                                                                            \"gnomad_exome_all\", \"gnomad_exome_afr\",\n",
    "                                                                                                                            \"gnomad_exome_amr\", \"gnomad_exome_asj\",\n",
    "                                                                                                                            \"gnomad_exome_eas\", \"gnomad_exome_fin\",\n",
    "                                                                                                                            \"gnomad_exome_nfe\", \"gnomad_exome_oth\",\n",
    "                                                                                                                            \"gnomad_exome_sas\"]))"
   ]
  },
  {
   "cell_type": "code",
   "execution_count": 37,
   "metadata": {},
   "outputs": [
    {
     "data": {
      "text/plain": [
       "['chromosome;start;end;ref;alt;gnomad_exome_all;gnomad_exome_afr;gnomad_exome_amr;gnomad_exome_asj;gnomad_exome_eas;gnomad_exome_fin;gnomad_exome_nfe;gnomad_exome_oth;gnomad_exome_sas',\n",
       " '1;12198;12198;G;C;.;.;.;.;.;.;.;.;.',\n",
       " '1;12237;12237;G;A;.;.;.;.;.;.;.;.;.',\n",
       " '1;12259;12259;G;C;0;.;.;.;.;.;.;.;0',\n",
       " '1;12266;12266;G;A;.;.;.;.;.;.;.;.;.',\n",
       " '1;12272;12272;G;A;0;.;0;.;.;.;.;.;.',\n",
       " '1;12554;12554;A;G;0;0;0;0;0;0;0;0;0',\n",
       " '1;12559;12559;G;A;0.0051;0;0.0054;0;0.0027;0;0.0018;0.0122;0.0099',\n",
       " '1;12573;12573;T;C;0.0005;0;0.0028;0;0;0;0;0;0',\n",
       " '1;12586;12586;C;T;0.0006;0;0;0;0.0023;0;0;0;0.0009']"
      ]
     },
     "execution_count": 37,
     "metadata": {},
     "output_type": "execute_result"
    }
   ],
   "source": [
    "hg19_gnomad_exome_csv.take(10)"
   ]
  },
  {
   "cell_type": "code",
   "execution_count": 44,
   "metadata": {},
   "outputs": [],
   "source": [
    "hg19_gnomad_exome_csv = hg19_gnomad_exome_csv.coalesce(1)"
   ]
  },
  {
   "cell_type": "code",
   "execution_count": 45,
   "metadata": {},
   "outputs": [],
   "source": [
    "hg19_gnomad_exome_csv.saveAsTextFile(\"../data/hg19_gnomad_exome.csv\")"
   ]
  },
  {
   "cell_type": "code",
   "execution_count": 46,
   "metadata": {},
   "outputs": [],
   "source": [
    "hg19_gnomad_exome_df = spark.read.csv(\"../data/hg19_gnomad_exome.csv\", header=True, sep=\";\")"
   ]
  },
  {
   "cell_type": "code",
   "execution_count": 47,
   "metadata": {},
   "outputs": [
    {
     "name": "stdout",
     "output_type": "stream",
     "text": [
      "+----------+-----+-----+---+---+----------------+----------------+----------------+----------------+----------------+----------------+----------------+----------------+----------------+\n",
      "|chromosome|start|  end|ref|alt|gnomad_exome_all|gnomad_exome_afr|gnomad_exome_amr|gnomad_exome_asj|gnomad_exome_eas|gnomad_exome_fin|gnomad_exome_nfe|gnomad_exome_oth|gnomad_exome_sas|\n",
      "+----------+-----+-----+---+---+----------------+----------------+----------------+----------------+----------------+----------------+----------------+----------------+----------------+\n",
      "|         1|12198|12198|  G|  C|               .|               .|               .|               .|               .|               .|               .|               .|               .|\n",
      "|         1|12237|12237|  G|  A|               .|               .|               .|               .|               .|               .|               .|               .|               .|\n",
      "|         1|12259|12259|  G|  C|               0|               .|               .|               .|               .|               .|               .|               .|               0|\n",
      "|         1|12266|12266|  G|  A|               .|               .|               .|               .|               .|               .|               .|               .|               .|\n",
      "|         1|12272|12272|  G|  A|               0|               .|               0|               .|               .|               .|               .|               .|               .|\n",
      "|         1|12554|12554|  A|  G|               0|               0|               0|               0|               0|               0|               0|               0|               0|\n",
      "|         1|12559|12559|  G|  A|          0.0051|               0|          0.0054|               0|          0.0027|               0|          0.0018|          0.0122|          0.0099|\n",
      "|         1|12573|12573|  T|  C|          0.0005|               0|          0.0028|               0|               0|               0|               0|               0|               0|\n",
      "|         1|12586|12586|  C|  T|          0.0006|               0|               0|               0|          0.0023|               0|               0|               0|          0.0009|\n",
      "|         1|12596|12596|  C|  A|               0|               0|               0|               0|               0|               0|               0|               0|               0|\n",
      "|         1|12597|12597|  T|  C|          0.0028|          0.0152|          0.0023|               0|               0|               0|               0|               0|               0|\n",
      "|         1|12600|12600|  T|  -|               0|               0|               0|               0|               0|               0|               0|               0|               0|\n",
      "|         1|12599|12600| CT|  C|               0|               0|               0|               0|               0|               0|               0|               0|               0|\n",
      "|         1|12613|12614| GT|  -|               0|               0|               0|               0|               0|               0|               0|               0|               0|\n",
      "|         1|12612|12614|GGT|  G|               0|               0|               0|               0|               0|               0|               0|               0|               0|\n",
      "|         1|12625|12625|  G|  A|          0.0002|               0|          0.0016|               0|               0|               0|               0|               0|               0|\n",
      "|         1|12659|12659|  G|  C|          0.0011|          0.0007|          0.0014|               0|          0.0042|               0|               0|               0|          0.0017|\n",
      "|         1|12670|12670|  G|  C|          0.0031|          0.0007|          0.0013|               0|          0.0084|               0|          0.0023|          0.0048|          0.0056|\n",
      "|         1|12672|12672|  C|  T|          0.0021|          0.0030|          0.0028|               0|          0.0056|               0|          0.0005|               0|          0.0017|\n",
      "|         1|12673|12673|  G|  A|          0.0013|               0|          0.0026|               0|               0|               0|          0.0009|               0|          0.0041|\n",
      "+----------+-----+-----+---+---+----------------+----------------+----------------+----------------+----------------+----------------+----------------+----------------+----------------+\n",
      "only showing top 20 rows\n",
      "\n"
     ]
    }
   ],
   "source": [
    "hg19_gnomad_exome_df.show()"
   ]
  },
  {
   "cell_type": "code",
   "execution_count": 48,
   "metadata": {},
   "outputs": [],
   "source": [
    "hg19_revel = sc.textFile(\"../data/hg19_revel.txt\")"
   ]
  },
  {
   "cell_type": "code",
   "execution_count": 49,
   "metadata": {},
   "outputs": [],
   "source": [
    "hg19_revel_csv = hg19_revel.map(lambda line: \";\".join(line.split(\"\\t\")) if not line.startswith(\"#\") else \";\".join([\"chromosome\", \"start\", \"end\", \"ref\", \"alt\", \"revel\"]))"
   ]
  },
  {
   "cell_type": "code",
   "execution_count": 50,
   "metadata": {},
   "outputs": [
    {
     "data": {
      "text/plain": [
       "['chromosome;start;end;ref;alt;revel',\n",
       " '1;35142;35142;G;A;0.027',\n",
       " '1;35142;35142;G;C;0.035',\n",
       " '1;35142;35142;G;T;0.043',\n",
       " '1;35143;35143;T;A;0.018',\n",
       " '1;35143;35143;T;C;0.034',\n",
       " '1;35143;35143;T;G;0.039',\n",
       " '1;35144;35144;A;C;0.012',\n",
       " '1;35145;35145;C;A;0.023',\n",
       " '1;35145;35145;C;G;0.029']"
      ]
     },
     "execution_count": 50,
     "metadata": {},
     "output_type": "execute_result"
    }
   ],
   "source": [
    "hg19_revel_csv.take(10)"
   ]
  },
  {
   "cell_type": "code",
   "execution_count": 51,
   "metadata": {},
   "outputs": [],
   "source": [
    "hg19_revel_csv = hg19_revel_csv.coalesce(1)"
   ]
  },
  {
   "cell_type": "code",
   "execution_count": 52,
   "metadata": {},
   "outputs": [],
   "source": [
    "hg19_revel_csv.saveAsTextFile(\"../data/hg19_revel.csv\")"
   ]
  },
  {
   "cell_type": "code",
   "execution_count": 53,
   "metadata": {},
   "outputs": [],
   "source": [
    "hg19_revel_df = spark.read.csv(\"../data/hg19_revel.csv\", header=True, sep=\";\")"
   ]
  },
  {
   "cell_type": "code",
   "execution_count": 54,
   "metadata": {},
   "outputs": [
    {
     "name": "stdout",
     "output_type": "stream",
     "text": [
      "+----------+-----+-----+---+---+-----+\n",
      "|chromosome|start|  end|ref|alt|revel|\n",
      "+----------+-----+-----+---+---+-----+\n",
      "|         1|35142|35142|  G|  A|0.027|\n",
      "|         1|35142|35142|  G|  C|0.035|\n",
      "|         1|35142|35142|  G|  T|0.043|\n",
      "|         1|35143|35143|  T|  A|0.018|\n",
      "|         1|35143|35143|  T|  C|0.034|\n",
      "|         1|35143|35143|  T|  G|0.039|\n",
      "|         1|35144|35144|  A|  C|0.012|\n",
      "|         1|35145|35145|  C|  A|0.023|\n",
      "|         1|35145|35145|  C|  G|0.029|\n",
      "|         1|35145|35145|  C|  T|0.016|\n",
      "|         1|35146|35146|  A|  C|0.031|\n",
      "|         1|35146|35146|  A|  G|0.016|\n",
      "|         1|35146|35146|  A|  T|0.025|\n",
      "|         1|35147|35147|  T|  A|0.004|\n",
      "|         1|35147|35147|  T|  G|0.004|\n",
      "|         1|35148|35148|  A|  G|0.010|\n",
      "|         1|35149|35149|  A|  C|0.029|\n",
      "|         1|35149|35149|  A|  T|0.022|\n",
      "|         1|35150|35150|  T|  A|0.038|\n",
      "|         1|35150|35150|  T|  G|0.055|\n",
      "+----------+-----+-----+---+---+-----+\n",
      "only showing top 20 rows\n",
      "\n"
     ]
    }
   ],
   "source": [
    "hg19_revel_df.show()"
   ]
  },
  {
   "cell_type": "code",
   "execution_count": null,
   "metadata": {},
   "outputs": [],
   "source": []
  }
 ],
 "metadata": {
  "kernelspec": {
   "display_name": "Python 3",
   "language": "python",
   "name": "python3"
  },
  "language_info": {
   "codemirror_mode": {
    "name": "ipython",
    "version": 3
   },
   "file_extension": ".py",
   "mimetype": "text/x-python",
   "name": "python",
   "nbconvert_exporter": "python",
   "pygments_lexer": "ipython3",
   "version": "3.6.3"
  }
 },
 "nbformat": 4,
 "nbformat_minor": 2
}
