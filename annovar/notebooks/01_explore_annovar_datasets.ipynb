{
 "cells": [
  {
   "cell_type": "markdown",
   "metadata": {},
   "source": [
    "# Explorando datasets ANNOVAR"
   ]
  },
  {
   "cell_type": "code",
   "execution_count": 1,
   "metadata": {},
   "outputs": [],
   "source": [
    "from pyspark.sql import SparkSession"
   ]
  },
  {
   "cell_type": "code",
   "execution_count": 2,
   "metadata": {},
   "outputs": [],
   "source": [
    "spark = SparkSession.builder.appName(\"Explore ANNOVAR datasets\").getOrCreate()"
   ]
  },
  {
   "cell_type": "markdown",
   "metadata": {},
   "source": [
    "## Carregando Dataframes"
   ]
  },
  {
   "cell_type": "markdown",
   "metadata": {},
   "source": [
    "### MCAP"
   ]
  },
  {
   "cell_type": "code",
   "execution_count": 3,
   "metadata": {},
   "outputs": [],
   "source": [
    "hg19_mcap = spark.read.csv(\"../data/hg19_mcap.txt\", header=True, sep=\"\\t\")"
   ]
  },
  {
   "cell_type": "code",
   "execution_count": 4,
   "metadata": {},
   "outputs": [
    {
     "name": "stdout",
     "output_type": "stream",
     "text": [
      "+----+-----+-----+---+---+----------------+\n",
      "|#Chr|Start|  End|Ref|Alt|            MCAP|\n",
      "+----+-----+-----+---+---+----------------+\n",
      "|   1|69091|69091|  A|  T|0.00708247797993|\n",
      "|   1|69091|69091|  A|  C|0.00708247797993|\n",
      "|   1|69091|69091|  A|  G|0.00996425211598|\n",
      "|   1|69092|69092|  T|  A|0.00369310043823|\n",
      "|   1|69092|69092|  T|  C|0.00326415452909|\n",
      "|   1|69092|69092|  T|  G|0.00369358636892|\n",
      "|   1|69093|69093|  G|  A|0.00145301983733|\n",
      "|   1|69093|69093|  G|  T|0.00145301983733|\n",
      "|   1|69093|69093|  G|  C|0.00144694747062|\n",
      "|   1|69094|69094|  G|  A|0.00504677681045|\n",
      "|   1|69094|69094|  G|  T|0.00512526482336|\n",
      "|   1|69094|69094|  G|  C|0.00512526482336|\n",
      "|   1|69095|69095|  T|  A|0.00600421272717|\n",
      "|   1|69095|69095|  T|  C| 0.0047045259721|\n",
      "|   1|69095|69095|  T|  G| 0.0063892150463|\n",
      "|   1|69097|69097|  A|  T|0.00301640918768|\n",
      "|   1|69097|69097|  A|  C|0.00640998582146|\n",
      "|   1|69097|69097|  A|  G|0.00506998389558|\n",
      "|   1|69098|69098|  C|  A| 0.0063586586617|\n",
      "|   1|69098|69098|  C|  T|0.00679311636277|\n",
      "+----+-----+-----+---+---+----------------+\n",
      "only showing top 20 rows\n",
      "\n"
     ]
    }
   ],
   "source": [
    "hg19_mcap.show()"
   ]
  },
  {
   "cell_type": "code",
   "execution_count": 5,
   "metadata": {},
   "outputs": [],
   "source": [
    "hg19_mcap.createOrReplaceTempView(\"hg19_mcap\")"
   ]
  },
  {
   "cell_type": "code",
   "execution_count": 13,
   "metadata": {},
   "outputs": [],
   "source": [
    "hg19_mcap = spark.sql(\"SELECT `#Chr` AS chromosome,\\\n",
    "                              Start AS start, \\\n",
    "                              End AS end, \\\n",
    "                              Ref AS ref, \\\n",
    "                              Alt AS alt, \\\n",
    "                              MCAP AS mcap \\\n",
    "                      FROM hg19_mcap\")"
   ]
  },
  {
   "cell_type": "code",
   "execution_count": 15,
   "metadata": {},
   "outputs": [
    {
     "name": "stdout",
     "output_type": "stream",
     "text": [
      "+----------+-----+-----+---+---+----------------+\n",
      "|chromosome|start|  end|ref|alt|            mcap|\n",
      "+----------+-----+-----+---+---+----------------+\n",
      "|         1|69091|69091|  A|  T|0.00708247797993|\n",
      "|         1|69091|69091|  A|  C|0.00708247797993|\n",
      "|         1|69091|69091|  A|  G|0.00996425211598|\n",
      "|         1|69092|69092|  T|  A|0.00369310043823|\n",
      "|         1|69092|69092|  T|  C|0.00326415452909|\n",
      "|         1|69092|69092|  T|  G|0.00369358636892|\n",
      "|         1|69093|69093|  G|  A|0.00145301983733|\n",
      "|         1|69093|69093|  G|  T|0.00145301983733|\n",
      "|         1|69093|69093|  G|  C|0.00144694747062|\n",
      "|         1|69094|69094|  G|  A|0.00504677681045|\n",
      "|         1|69094|69094|  G|  T|0.00512526482336|\n",
      "|         1|69094|69094|  G|  C|0.00512526482336|\n",
      "|         1|69095|69095|  T|  A|0.00600421272717|\n",
      "|         1|69095|69095|  T|  C| 0.0047045259721|\n",
      "|         1|69095|69095|  T|  G| 0.0063892150463|\n",
      "|         1|69097|69097|  A|  T|0.00301640918768|\n",
      "|         1|69097|69097|  A|  C|0.00640998582146|\n",
      "|         1|69097|69097|  A|  G|0.00506998389558|\n",
      "|         1|69098|69098|  C|  A| 0.0063586586617|\n",
      "|         1|69098|69098|  C|  T|0.00679311636277|\n",
      "+----------+-----+-----+---+---+----------------+\n",
      "only showing top 20 rows\n",
      "\n"
     ]
    }
   ],
   "source": [
    "hg19_mcap.show()"
   ]
  },
  {
   "cell_type": "code",
   "execution_count": 16,
   "metadata": {},
   "outputs": [],
   "source": [
    "hg19_mcap.write.format(\"org.apache.spark.sql.cassandra\").mode(\"append\").options(table=\"hg19_mcap\", keyspace=\"sequence_databases\").save()"
   ]
  },
  {
   "cell_type": "markdown",
   "metadata": {},
   "source": [
    "### Abraom"
   ]
  },
  {
   "cell_type": "code",
   "execution_count": 17,
   "metadata": {},
   "outputs": [],
   "source": [
    "hg19_abraom = spark.read.csv(\"../data/hg19_abraom.txt\", header=True, sep=\"\\t\")"
   ]
  },
  {
   "cell_type": "code",
   "execution_count": 18,
   "metadata": {},
   "outputs": [
    {
     "name": "stdout",
     "output_type": "stream",
     "text": [
      "+----+-----+-----+---+----+-----------+--------------------+------------------+\n",
      "|#Chr|Start|  End|Ref| Alt|abraom_freq|       abraom_filter|abraom_cegh_filter|\n",
      "+----+-----+-----+---+----+-----------+--------------------+------------------+\n",
      "|   1|13116|13116|  T|   G|   0.010033|             LowQual|               FDP|\n",
      "|   1|13244|13244|  G|   A|   0.002193|             LowQual|               FAB|\n",
      "|   1|13248|13248|  C|   G|   0.004149|VQSRTrancheSNP99....|               FAB|\n",
      "|   1|13273|13273|  G|   C|   0.113333|VQSRTrancheSNP99....|        WK-LowCall|\n",
      "|   1|13302|13302|  C|   T|   0.017143|VQSRTrancheSNP99....|        WK-LowCall|\n",
      "|   1|13380|13380|  C|   G|   0.007782|VQSRTrancheSNP99....|               FAB|\n",
      "|   1|13417|13417|  -|GAGA|   0.075145|                PASS|        WK-LowCall|\n",
      "|   1|13418|13418|  G|   A|   0.088398|VQSRTrancheSNP99....|               FAB|\n",
      "|   1|13479|13479|  A|   T|   0.003968|             LowQual|               FAB|\n",
      "|   1|13494|13494|  A|   G|   0.001969|VQSRTrancheSNP99....|               FAB|\n",
      "|   1|13504|13504|  G|   A|   0.004049|             LowQual|               FAB|\n",
      "|   1|13561|13561|  G|   T|   0.006173|             LowQual|               FAB|\n",
      "|   1|13868|13868|  A|   G|   0.111111|VQSRTrancheSNP99....|               FDP|\n",
      "|   1|13896|13896|  C|   A|   0.120000|VQSRTrancheSNP99....|               FDP|\n",
      "|   1|14354|14354|  C|   A|   0.500000|             LowQual|               FAB|\n",
      "|   1|14464|14464|  A|   T|   0.250000|VQSRTrancheSNP99....|        WK-LowCall|\n",
      "|   1|14522|14522|  G|   A|   0.164286|VQSRTrancheSNP99....|               FAB|\n",
      "|   1|14542|14542|  A|   G|   0.185897|VQSRTrancheSNP99....|               FAB|\n",
      "|   1|14574|14574|  A|   G|   0.101010|VQSRTrancheSNP99....|               FAB|\n",
      "|   1|14610|14610|  T|   C|   0.043796|VQSRTrancheSNP99....|               FAB|\n",
      "+----+-----+-----+---+----+-----------+--------------------+------------------+\n",
      "only showing top 20 rows\n",
      "\n"
     ]
    }
   ],
   "source": [
    "hg19_abraom.show()"
   ]
  },
  {
   "cell_type": "code",
   "execution_count": 19,
   "metadata": {},
   "outputs": [],
   "source": [
    "hg19_abraom.createOrReplaceTempView(\"hg19_abraom\")"
   ]
  },
  {
   "cell_type": "code",
   "execution_count": 20,
   "metadata": {},
   "outputs": [],
   "source": [
    "hg19_abraom = spark.sql(\"SELECT `#Chr` AS chromosome, \\\n",
    "                                Start AS start, \\\n",
    "                                End AS end, \\\n",
    "                                Ref AS ref, \\\n",
    "                                Alt AS alt, \\\n",
    "                                abraom_freq, \\\n",
    "                                abraom_filter, \\\n",
    "                                abraom_cegh_filter \\\n",
    "                        FROM hg19_abraom\")"
   ]
  },
  {
   "cell_type": "code",
   "execution_count": 21,
   "metadata": {},
   "outputs": [
    {
     "name": "stdout",
     "output_type": "stream",
     "text": [
      "+----------+-----+-----+---+----+-----------+--------------------+------------------+\n",
      "|chromosome|start|  end|ref| alt|abraom_freq|       abraom_filter|abraom_cegh_filter|\n",
      "+----------+-----+-----+---+----+-----------+--------------------+------------------+\n",
      "|         1|13116|13116|  T|   G|   0.010033|             LowQual|               FDP|\n",
      "|         1|13244|13244|  G|   A|   0.002193|             LowQual|               FAB|\n",
      "|         1|13248|13248|  C|   G|   0.004149|VQSRTrancheSNP99....|               FAB|\n",
      "|         1|13273|13273|  G|   C|   0.113333|VQSRTrancheSNP99....|        WK-LowCall|\n",
      "|         1|13302|13302|  C|   T|   0.017143|VQSRTrancheSNP99....|        WK-LowCall|\n",
      "|         1|13380|13380|  C|   G|   0.007782|VQSRTrancheSNP99....|               FAB|\n",
      "|         1|13417|13417|  -|GAGA|   0.075145|                PASS|        WK-LowCall|\n",
      "|         1|13418|13418|  G|   A|   0.088398|VQSRTrancheSNP99....|               FAB|\n",
      "|         1|13479|13479|  A|   T|   0.003968|             LowQual|               FAB|\n",
      "|         1|13494|13494|  A|   G|   0.001969|VQSRTrancheSNP99....|               FAB|\n",
      "|         1|13504|13504|  G|   A|   0.004049|             LowQual|               FAB|\n",
      "|         1|13561|13561|  G|   T|   0.006173|             LowQual|               FAB|\n",
      "|         1|13868|13868|  A|   G|   0.111111|VQSRTrancheSNP99....|               FDP|\n",
      "|         1|13896|13896|  C|   A|   0.120000|VQSRTrancheSNP99....|               FDP|\n",
      "|         1|14354|14354|  C|   A|   0.500000|             LowQual|               FAB|\n",
      "|         1|14464|14464|  A|   T|   0.250000|VQSRTrancheSNP99....|        WK-LowCall|\n",
      "|         1|14522|14522|  G|   A|   0.164286|VQSRTrancheSNP99....|               FAB|\n",
      "|         1|14542|14542|  A|   G|   0.185897|VQSRTrancheSNP99....|               FAB|\n",
      "|         1|14574|14574|  A|   G|   0.101010|VQSRTrancheSNP99....|               FAB|\n",
      "|         1|14610|14610|  T|   C|   0.043796|VQSRTrancheSNP99....|               FAB|\n",
      "+----------+-----+-----+---+----+-----------+--------------------+------------------+\n",
      "only showing top 20 rows\n",
      "\n"
     ]
    }
   ],
   "source": [
    "hg19_abraom.show()"
   ]
  },
  {
   "cell_type": "code",
   "execution_count": 22,
   "metadata": {},
   "outputs": [],
   "source": [
    "hg19_abraom.write.format(\"org.apache.spark.sql.cassandra\").mode(\"append\").options(table=\"hg19_abraom\", keyspace=\"sequence_databases\").save()"
   ]
  },
  {
   "cell_type": "markdown",
   "metadata": {},
   "source": [
    "### Clinvar"
   ]
  },
  {
   "cell_type": "code",
   "execution_count": 23,
   "metadata": {},
   "outputs": [],
   "source": [
    "hg19_clinvar = spark.read.csv(\"../data/hg19_clinvar_20170905.txt\", header=True, sep=\"\\t\")"
   ]
  },
  {
   "cell_type": "code",
   "execution_count": 24,
   "metadata": {},
   "outputs": [
    {
     "name": "stdout",
     "output_type": "stream",
     "text": [
      "+----+------+------+---+---+--------------------+--------------------+--------------+--------------------+--------------------+\n",
      "|#Chr| Start|   End|Ref|Alt|             CLINSIG|              CLNDBN|        CLNACC|             CLNDSDB|           CLNDSDBID|\n",
      "+----+------+------+---+---+--------------------+--------------------+--------------+--------------------+--------------------+\n",
      "|   1|     1|     1|  0|  0|          Pathogenic|Hereditary_cancer...|RCV000492594.1|    MedGen:SNOMED_CT|  C0027672:699346009|\n",
      "|   1|     1|     1|  0|  0|          Pathogenic|        not_provided|RCV000490008.1|              MedGen|            CN221809|\n",
      "|   1|     1|     1|  0|  0|Uncertain signifi...|       not_specified|RCV000489770.1|              MedGen|            CN169374|\n",
      "|   1|949523|949523|  C|  T|          Pathogenic|Immunodeficiency_...|RCV000162196.3|MedGen:OMIM:Orphanet|C4015293:616126:O...|\n",
      "|   1|949608|949608|  G|  A|              Benign|       not_specified|RCV000455759.1|              MedGen|            CN169374|\n",
      "|   1|949696|949696|  -|  G|          Pathogenic|Immunodeficiency_...|RCV000148989.5|MedGen:OMIM:Orphanet|C4015293:616126:O...|\n",
      "|   1|949739|949739|  G|  T|          Pathogenic|Immunodeficiency_...|RCV000148988.5|MedGen:OMIM:Orphanet|C4015293:616126:O...|\n",
      "|   1|955563|955563|  G|  C|       Likely benign|       not_specified|RCV000424799.1|              MedGen|            CN169374|\n",
      "|   1|955596|955596|  C|  G|Uncertain signifi...|        not_provided|RCV000422793.1|              MedGen|            CN221809|\n",
      "|   1|955597|955597|  G|  T|              Benign|       not_specified|RCV000116272.5|              MedGen|            CN169374|\n",
      "|   1|955601|955601|  C|  T|Uncertain signifi...|       not_specified|RCV000437701.1|              MedGen|            CN169374|\n",
      "|   1|955619|955619|  G|  C|               other|       not_specified|RCV000193277.2|              MedGen|            CN169374|\n",
      "|   1|957568|957568|  A|  G|              Benign|       not_specified|RCV000250556.1|              MedGen|            CN169374|\n",
      "|   1|957605|957605|  G|  A|          Pathogenic|Congenital_myasth...|RCV000235037.1|     MedGen:Orphanet|   C0751882:ORPHA590|\n",
      "|   1|957640|957640|  C|  T|               other|       not_specified|RCV000116258.3|              MedGen|            CN169374|\n",
      "|   1|957693|957693|  A|  T|          Pathogenic|Congenital_myasth...|RCV000235021.1|     MedGen:Orphanet|   C0751882:ORPHA590|\n",
      "|   1|976059|976059|  C|  T|               other|       not_specified|RCV000195231.2|              MedGen|            CN169374|\n",
      "|   1|976554|976554|  C|  G|              Benign|       not_specified|RCV000241878.1|              MedGen|            CN169374|\n",
      "|   1|976563|976563|  C|  T|              Benign|       not_specified|RCV000246662.1|              MedGen|            CN169374|\n",
      "|   1|976577|976577|  T|  C|Uncertain signifi...|       not_specified|RCV000492793.1|              MedGen|            CN169374|\n",
      "+----+------+------+---+---+--------------------+--------------------+--------------+--------------------+--------------------+\n",
      "only showing top 20 rows\n",
      "\n"
     ]
    }
   ],
   "source": [
    "hg19_clinvar.show()"
   ]
  },
  {
   "cell_type": "code",
   "execution_count": 25,
   "metadata": {},
   "outputs": [],
   "source": [
    "hg19_clinvar.createOrReplaceTempView(\"hg19_clinvar\")"
   ]
  },
  {
   "cell_type": "code",
   "execution_count": 26,
   "metadata": {},
   "outputs": [],
   "source": [
    "hg19_clinvar = spark.sql(\"SELECT `#Chr` AS chromosome, \\\n",
    "                                 Start AS start, \\\n",
    "                                 End AS end, \\\n",
    "                                 Ref AS ref, \\\n",
    "                                 Alt AS alt, \\\n",
    "                                 CLINSIG AS clinsig, \\\n",
    "                                 CLNDBN AS clndbn, \\\n",
    "                                 CLNACC AS clnacc, \\\n",
    "                                 CLNDSDB AS clndsdb, \\\n",
    "                                 CLNDSDBID AS clndsdbid \\\n",
    "                         FROM hg19_clinvar\")"
   ]
  },
  {
   "cell_type": "code",
   "execution_count": 27,
   "metadata": {},
   "outputs": [
    {
     "name": "stdout",
     "output_type": "stream",
     "text": [
      "+----------+------+------+---+---+--------------------+--------------------+--------------+--------------------+--------------------+\n",
      "|chromosome| start|   end|ref|alt|             clinsig|              clndbn|        clnacc|             clndsdb|           clndsdbid|\n",
      "+----------+------+------+---+---+--------------------+--------------------+--------------+--------------------+--------------------+\n",
      "|         1|     1|     1|  0|  0|          Pathogenic|Hereditary_cancer...|RCV000492594.1|    MedGen:SNOMED_CT|  C0027672:699346009|\n",
      "|         1|     1|     1|  0|  0|          Pathogenic|        not_provided|RCV000490008.1|              MedGen|            CN221809|\n",
      "|         1|     1|     1|  0|  0|Uncertain signifi...|       not_specified|RCV000489770.1|              MedGen|            CN169374|\n",
      "|         1|949523|949523|  C|  T|          Pathogenic|Immunodeficiency_...|RCV000162196.3|MedGen:OMIM:Orphanet|C4015293:616126:O...|\n",
      "|         1|949608|949608|  G|  A|              Benign|       not_specified|RCV000455759.1|              MedGen|            CN169374|\n",
      "|         1|949696|949696|  -|  G|          Pathogenic|Immunodeficiency_...|RCV000148989.5|MedGen:OMIM:Orphanet|C4015293:616126:O...|\n",
      "|         1|949739|949739|  G|  T|          Pathogenic|Immunodeficiency_...|RCV000148988.5|MedGen:OMIM:Orphanet|C4015293:616126:O...|\n",
      "|         1|955563|955563|  G|  C|       Likely benign|       not_specified|RCV000424799.1|              MedGen|            CN169374|\n",
      "|         1|955596|955596|  C|  G|Uncertain signifi...|        not_provided|RCV000422793.1|              MedGen|            CN221809|\n",
      "|         1|955597|955597|  G|  T|              Benign|       not_specified|RCV000116272.5|              MedGen|            CN169374|\n",
      "|         1|955601|955601|  C|  T|Uncertain signifi...|       not_specified|RCV000437701.1|              MedGen|            CN169374|\n",
      "|         1|955619|955619|  G|  C|               other|       not_specified|RCV000193277.2|              MedGen|            CN169374|\n",
      "|         1|957568|957568|  A|  G|              Benign|       not_specified|RCV000250556.1|              MedGen|            CN169374|\n",
      "|         1|957605|957605|  G|  A|          Pathogenic|Congenital_myasth...|RCV000235037.1|     MedGen:Orphanet|   C0751882:ORPHA590|\n",
      "|         1|957640|957640|  C|  T|               other|       not_specified|RCV000116258.3|              MedGen|            CN169374|\n",
      "|         1|957693|957693|  A|  T|          Pathogenic|Congenital_myasth...|RCV000235021.1|     MedGen:Orphanet|   C0751882:ORPHA590|\n",
      "|         1|976059|976059|  C|  T|               other|       not_specified|RCV000195231.2|              MedGen|            CN169374|\n",
      "|         1|976554|976554|  C|  G|              Benign|       not_specified|RCV000241878.1|              MedGen|            CN169374|\n",
      "|         1|976563|976563|  C|  T|              Benign|       not_specified|RCV000246662.1|              MedGen|            CN169374|\n",
      "|         1|976577|976577|  T|  C|Uncertain signifi...|       not_specified|RCV000492793.1|              MedGen|            CN169374|\n",
      "+----------+------+------+---+---+--------------------+--------------------+--------------+--------------------+--------------------+\n",
      "only showing top 20 rows\n",
      "\n"
     ]
    }
   ],
   "source": [
    "hg19_clinvar.show()"
   ]
  },
  {
   "cell_type": "code",
   "execution_count": 28,
   "metadata": {},
   "outputs": [],
   "source": [
    "hg19_clinvar.write.format(\"org.apache.spark.sql.cassandra\").mode(\"append\").options(table=\"hg19_clinvar\", keyspace=\"sequence_databases\").save()"
   ]
  },
  {
   "cell_type": "markdown",
   "metadata": {},
   "source": [
    "### gnomad exome"
   ]
  },
  {
   "cell_type": "code",
   "execution_count": 29,
   "metadata": {},
   "outputs": [],
   "source": [
    "hg19_gnomad_exome = spark.read.csv(\"../data/hg19_gnomad_exome.txt\", header=True, sep=\"\\t\")"
   ]
  },
  {
   "cell_type": "code",
   "execution_count": 30,
   "metadata": {},
   "outputs": [
    {
     "name": "stdout",
     "output_type": "stream",
     "text": [
      "+----+-----+-----+---+---+----------------+----------------+----------------+----------------+----------------+----------------+----------------+----------------+----------------+\n",
      "|#Chr|Start|  End|Ref|Alt|gnomAD_exome_ALL|gnomAD_exome_AFR|gnomAD_exome_AMR|gnomAD_exome_ASJ|gnomAD_exome_EAS|gnomAD_exome_FIN|gnomAD_exome_NFE|gnomAD_exome_OTH|gnomAD_exome_SAS|\n",
      "+----+-----+-----+---+---+----------------+----------------+----------------+----------------+----------------+----------------+----------------+----------------+----------------+\n",
      "|   1|12198|12198|  G|  C|               .|               .|               .|               .|               .|               .|               .|               .|               .|\n",
      "|   1|12237|12237|  G|  A|               .|               .|               .|               .|               .|               .|               .|               .|               .|\n",
      "|   1|12259|12259|  G|  C|               0|               .|               .|               .|               .|               .|               .|               .|               0|\n",
      "|   1|12266|12266|  G|  A|               .|               .|               .|               .|               .|               .|               .|               .|               .|\n",
      "|   1|12272|12272|  G|  A|               0|               .|               0|               .|               .|               .|               .|               .|               .|\n",
      "|   1|12554|12554|  A|  G|               0|               0|               0|               0|               0|               0|               0|               0|               0|\n",
      "|   1|12559|12559|  G|  A|          0.0051|               0|          0.0054|               0|          0.0027|               0|          0.0018|          0.0122|          0.0099|\n",
      "|   1|12573|12573|  T|  C|          0.0005|               0|          0.0028|               0|               0|               0|               0|               0|               0|\n",
      "|   1|12586|12586|  C|  T|          0.0006|               0|               0|               0|          0.0023|               0|               0|               0|          0.0009|\n",
      "|   1|12596|12596|  C|  A|               0|               0|               0|               0|               0|               0|               0|               0|               0|\n",
      "|   1|12597|12597|  T|  C|          0.0028|          0.0152|          0.0023|               0|               0|               0|               0|               0|               0|\n",
      "|   1|12600|12600|  T|  -|               0|               0|               0|               0|               0|               0|               0|               0|               0|\n",
      "|   1|12599|12600| CT|  C|               0|               0|               0|               0|               0|               0|               0|               0|               0|\n",
      "|   1|12613|12614| GT|  -|               0|               0|               0|               0|               0|               0|               0|               0|               0|\n",
      "|   1|12612|12614|GGT|  G|               0|               0|               0|               0|               0|               0|               0|               0|               0|\n",
      "|   1|12625|12625|  G|  A|          0.0002|               0|          0.0016|               0|               0|               0|               0|               0|               0|\n",
      "|   1|12659|12659|  G|  C|          0.0011|          0.0007|          0.0014|               0|          0.0042|               0|               0|               0|          0.0017|\n",
      "|   1|12670|12670|  G|  C|          0.0031|          0.0007|          0.0013|               0|          0.0084|               0|          0.0023|          0.0048|          0.0056|\n",
      "|   1|12672|12672|  C|  T|          0.0021|          0.0030|          0.0028|               0|          0.0056|               0|          0.0005|               0|          0.0017|\n",
      "|   1|12673|12673|  G|  A|          0.0013|               0|          0.0026|               0|               0|               0|          0.0009|               0|          0.0041|\n",
      "+----+-----+-----+---+---+----------------+----------------+----------------+----------------+----------------+----------------+----------------+----------------+----------------+\n",
      "only showing top 20 rows\n",
      "\n"
     ]
    }
   ],
   "source": [
    "hg19_gnomad_exome.show()"
   ]
  },
  {
   "cell_type": "code",
   "execution_count": 31,
   "metadata": {},
   "outputs": [],
   "source": [
    "hg19_gnomad_exome.createOrReplaceTempView(\"hg19_gnomad_exome\")"
   ]
  },
  {
   "cell_type": "code",
   "execution_count": 32,
   "metadata": {},
   "outputs": [],
   "source": [
    "hg19_gnomad_exome = spark.sql(\"SELECT `#Chr` AS chromosome, \\\n",
    "                                      Start AS start, \\\n",
    "                                      End AS end, \\\n",
    "                                      Ref AS ref, \\\n",
    "                                      Alt AS alt, \\\n",
    "                                      gnomAD_exome_ALL AS gnomad_exome_all, \\\n",
    "                                      gnomAD_exome_AFR AS gnomad_exome_afr, \\\n",
    "                                      gnomAD_exome_AMR AS gnomad_exome_amr, \\\n",
    "                                      gnomAD_exome_ASJ AS gnomad_exome_asj, \\\n",
    "                                      gnomAD_exome_EAS AS gnomad_exome_eas, \\\n",
    "                                      gnomAD_exome_FIN AS gnomad_exome_fin, \\\n",
    "                                      gnomAD_exome_NFE AS gnomad_exome_nfe, \\\n",
    "                                      gnomAD_exome_OTH AS gnomad_exome_oth, \\\n",
    "                                      gnomAD_exome_SAS AS gnomad_exome_sas \\\n",
    "                                FROM hg19_gnomad_exome\")"
   ]
  },
  {
   "cell_type": "code",
   "execution_count": 33,
   "metadata": {},
   "outputs": [
    {
     "name": "stdout",
     "output_type": "stream",
     "text": [
      "+----------+-----+-----+---+---+----------------+----------------+----------------+----------------+----------------+----------------+----------------+----------------+----------------+\n",
      "|chromosome|start|  end|ref|alt|gnomad_exome_all|gnomad_exome_afr|gnomad_exome_amr|gnomad_exome_asj|gnomad_exome_eas|gnomad_exome_fin|gnomad_exome_nfe|gnomad_exome_oth|gnomad_exome_sas|\n",
      "+----------+-----+-----+---+---+----------------+----------------+----------------+----------------+----------------+----------------+----------------+----------------+----------------+\n",
      "|         1|12198|12198|  G|  C|               .|               .|               .|               .|               .|               .|               .|               .|               .|\n",
      "|         1|12237|12237|  G|  A|               .|               .|               .|               .|               .|               .|               .|               .|               .|\n",
      "|         1|12259|12259|  G|  C|               0|               .|               .|               .|               .|               .|               .|               .|               0|\n",
      "|         1|12266|12266|  G|  A|               .|               .|               .|               .|               .|               .|               .|               .|               .|\n",
      "|         1|12272|12272|  G|  A|               0|               .|               0|               .|               .|               .|               .|               .|               .|\n",
      "|         1|12554|12554|  A|  G|               0|               0|               0|               0|               0|               0|               0|               0|               0|\n",
      "|         1|12559|12559|  G|  A|          0.0051|               0|          0.0054|               0|          0.0027|               0|          0.0018|          0.0122|          0.0099|\n",
      "|         1|12573|12573|  T|  C|          0.0005|               0|          0.0028|               0|               0|               0|               0|               0|               0|\n",
      "|         1|12586|12586|  C|  T|          0.0006|               0|               0|               0|          0.0023|               0|               0|               0|          0.0009|\n",
      "|         1|12596|12596|  C|  A|               0|               0|               0|               0|               0|               0|               0|               0|               0|\n",
      "|         1|12597|12597|  T|  C|          0.0028|          0.0152|          0.0023|               0|               0|               0|               0|               0|               0|\n",
      "|         1|12600|12600|  T|  -|               0|               0|               0|               0|               0|               0|               0|               0|               0|\n",
      "|         1|12599|12600| CT|  C|               0|               0|               0|               0|               0|               0|               0|               0|               0|\n",
      "|         1|12613|12614| GT|  -|               0|               0|               0|               0|               0|               0|               0|               0|               0|\n",
      "|         1|12612|12614|GGT|  G|               0|               0|               0|               0|               0|               0|               0|               0|               0|\n",
      "|         1|12625|12625|  G|  A|          0.0002|               0|          0.0016|               0|               0|               0|               0|               0|               0|\n",
      "|         1|12659|12659|  G|  C|          0.0011|          0.0007|          0.0014|               0|          0.0042|               0|               0|               0|          0.0017|\n",
      "|         1|12670|12670|  G|  C|          0.0031|          0.0007|          0.0013|               0|          0.0084|               0|          0.0023|          0.0048|          0.0056|\n",
      "|         1|12672|12672|  C|  T|          0.0021|          0.0030|          0.0028|               0|          0.0056|               0|          0.0005|               0|          0.0017|\n",
      "|         1|12673|12673|  G|  A|          0.0013|               0|          0.0026|               0|               0|               0|          0.0009|               0|          0.0041|\n",
      "+----------+-----+-----+---+---+----------------+----------------+----------------+----------------+----------------+----------------+----------------+----------------+----------------+\n",
      "only showing top 20 rows\n",
      "\n"
     ]
    }
   ],
   "source": [
    "hg19_gnomad_exome.show()"
   ]
  },
  {
   "cell_type": "code",
   "execution_count": 34,
   "metadata": {},
   "outputs": [],
   "source": [
    "hg19_gnomad_exome.write.format(\"org.apache.spark.sql.cassandra\").mode(\"append\").options(table=\"hg19_gnomad_exome\", keyspace=\"sequence_databases\").save()"
   ]
  },
  {
   "cell_type": "markdown",
   "metadata": {},
   "source": [
    "### Revel"
   ]
  },
  {
   "cell_type": "code",
   "execution_count": 35,
   "metadata": {},
   "outputs": [],
   "source": [
    "hg19_revel = spark.read.csv(\"../data/hg19_revel.txt\", header=True, sep=\"\\t\")"
   ]
  },
  {
   "cell_type": "code",
   "execution_count": 36,
   "metadata": {},
   "outputs": [
    {
     "name": "stdout",
     "output_type": "stream",
     "text": [
      "+----+-----+-----+---+---+-----+\n",
      "|#Chr|Start|  End|Ref|Alt|REVEL|\n",
      "+----+-----+-----+---+---+-----+\n",
      "|   1|35142|35142|  G|  A|0.027|\n",
      "|   1|35142|35142|  G|  C|0.035|\n",
      "|   1|35142|35142|  G|  T|0.043|\n",
      "|   1|35143|35143|  T|  A|0.018|\n",
      "|   1|35143|35143|  T|  C|0.034|\n",
      "|   1|35143|35143|  T|  G|0.039|\n",
      "|   1|35144|35144|  A|  C|0.012|\n",
      "|   1|35145|35145|  C|  A|0.023|\n",
      "|   1|35145|35145|  C|  G|0.029|\n",
      "|   1|35145|35145|  C|  T|0.016|\n",
      "|   1|35146|35146|  A|  C|0.031|\n",
      "|   1|35146|35146|  A|  G|0.016|\n",
      "|   1|35146|35146|  A|  T|0.025|\n",
      "|   1|35147|35147|  T|  A|0.004|\n",
      "|   1|35147|35147|  T|  G|0.004|\n",
      "|   1|35148|35148|  A|  G|0.010|\n",
      "|   1|35149|35149|  A|  C|0.029|\n",
      "|   1|35149|35149|  A|  T|0.022|\n",
      "|   1|35150|35150|  T|  A|0.038|\n",
      "|   1|35150|35150|  T|  G|0.055|\n",
      "+----+-----+-----+---+---+-----+\n",
      "only showing top 20 rows\n",
      "\n"
     ]
    }
   ],
   "source": [
    "hg19_revel.show()"
   ]
  },
  {
   "cell_type": "code",
   "execution_count": 37,
   "metadata": {},
   "outputs": [],
   "source": [
    "hg19_revel.createOrReplaceTempView(\"hg19_revel\")"
   ]
  },
  {
   "cell_type": "code",
   "execution_count": 38,
   "metadata": {},
   "outputs": [],
   "source": [
    "hg19_revel = spark.sql(\"SELECT `#Chr` AS chromosome, \\\n",
    "                                Start AS start, \\\n",
    "                                End AS end, \\\n",
    "                                Ref AS ref, \\\n",
    "                                Alt AS alt, \\\n",
    "                                REVEL AS revel \\\n",
    "                        FROM hg19_revel\")"
   ]
  },
  {
   "cell_type": "code",
   "execution_count": 39,
   "metadata": {},
   "outputs": [
    {
     "name": "stdout",
     "output_type": "stream",
     "text": [
      "+----------+-----+-----+---+---+-----+\n",
      "|chromosome|start|  end|ref|alt|revel|\n",
      "+----------+-----+-----+---+---+-----+\n",
      "|         1|35142|35142|  G|  A|0.027|\n",
      "|         1|35142|35142|  G|  C|0.035|\n",
      "|         1|35142|35142|  G|  T|0.043|\n",
      "|         1|35143|35143|  T|  A|0.018|\n",
      "|         1|35143|35143|  T|  C|0.034|\n",
      "|         1|35143|35143|  T|  G|0.039|\n",
      "|         1|35144|35144|  A|  C|0.012|\n",
      "|         1|35145|35145|  C|  A|0.023|\n",
      "|         1|35145|35145|  C|  G|0.029|\n",
      "|         1|35145|35145|  C|  T|0.016|\n",
      "|         1|35146|35146|  A|  C|0.031|\n",
      "|         1|35146|35146|  A|  G|0.016|\n",
      "|         1|35146|35146|  A|  T|0.025|\n",
      "|         1|35147|35147|  T|  A|0.004|\n",
      "|         1|35147|35147|  T|  G|0.004|\n",
      "|         1|35148|35148|  A|  G|0.010|\n",
      "|         1|35149|35149|  A|  C|0.029|\n",
      "|         1|35149|35149|  A|  T|0.022|\n",
      "|         1|35150|35150|  T|  A|0.038|\n",
      "|         1|35150|35150|  T|  G|0.055|\n",
      "+----------+-----+-----+---+---+-----+\n",
      "only showing top 20 rows\n",
      "\n"
     ]
    }
   ],
   "source": [
    "hg19_revel.show()"
   ]
  },
  {
   "cell_type": "code",
   "execution_count": 40,
   "metadata": {},
   "outputs": [],
   "source": [
    "hg19_revel.write.format(\"org.apache.spark.sql.cassandra\").mode(\"append\").options(table=\"hg19_revel\", keyspace=\"sequence_databases\").save()"
   ]
  },
  {
   "cell_type": "markdown",
   "metadata": {},
   "source": [
    "### AVSNP150"
   ]
  },
  {
   "cell_type": "code",
   "execution_count": 41,
   "metadata": {},
   "outputs": [],
   "source": [
    "hg19_avsnp150 = spark.read.csv(\"../data/hg19_avsnp150.txt\", header=False, sep=\"\\t\")"
   ]
  },
  {
   "cell_type": "code",
   "execution_count": 42,
   "metadata": {},
   "outputs": [
    {
     "name": "stdout",
     "output_type": "stream",
     "text": [
      "+---+-----+-----+---+---+------------+\n",
      "|_c0|  _c1|  _c2|_c3|_c4|         _c5|\n",
      "+---+-----+-----+---+---+------------+\n",
      "|  1|10019|10020| TA|  T| rs775809821|\n",
      "|  1|10020|10020|  A|  -| rs775809821|\n",
      "|  1|10039|10039|  A|  C| rs978760828|\n",
      "|  1|10043|10043|  T|  A|rs1008829651|\n",
      "|  1|10051|10051|  A|  G|rs1052373574|\n",
      "|  1|10055|10055|  -|  A| rs768019142|\n",
      "|  1|10055|10055|  T|  A| rs892501864|\n",
      "|  1|10055|10055|  T| TA| rs768019142|\n",
      "|  1|10063|10063|  A|  C|rs1010989343|\n",
      "|  1|10077|10077|  C|  G|rs1022805358|\n",
      "|  1|10108|10108|  C|  T|  rs62651026|\n",
      "|  1|10109|10109|  A|  T| rs376007522|\n",
      "|  1|10128|10128|  A| AC| rs796688738|\n",
      "|  1|10128|10128|  -|  C| rs796688738|\n",
      "|  1|10139|10139|  A|  T| rs368469931|\n",
      "|  1|10144|10145| TA|  T| rs144773400|\n",
      "|  1|10145|10145|  A|  -| rs144773400|\n",
      "|  1|10146|10147| AC|  A| rs779258992|\n",
      "|  1|10147|10147|  C|  -| rs779258992|\n",
      "|  1|10150|10150|  C|  T| rs371194064|\n",
      "+---+-----+-----+---+---+------------+\n",
      "only showing top 20 rows\n",
      "\n"
     ]
    }
   ],
   "source": [
    "hg19_avsnp150.show()"
   ]
  },
  {
   "cell_type": "code",
   "execution_count": 43,
   "metadata": {},
   "outputs": [],
   "source": [
    "hg19_avsnp150.createOrReplaceTempView(\"hg19_avsnp150\")"
   ]
  },
  {
   "cell_type": "code",
   "execution_count": 46,
   "metadata": {},
   "outputs": [],
   "source": [
    "hg19_avsnp150 = spark.sql(\"SELECT `_c0` AS chromosome, \\\n",
    "                                  `_c1` AS start, \\\n",
    "                                  `_c2` AS end, \\\n",
    "                                  `_c3` AS ref, \\\n",
    "                                  `_c4` AS alt, \\\n",
    "                                  `_c5` AS human_varianty \\\n",
    "                           FROM hg19_avsnp150\")"
   ]
  },
  {
   "cell_type": "code",
   "execution_count": 47,
   "metadata": {},
   "outputs": [
    {
     "name": "stdout",
     "output_type": "stream",
     "text": [
      "+----------+-----+-----+---+---+--------------+\n",
      "|chromosome|start|  end|ref|alt|human_varianty|\n",
      "+----------+-----+-----+---+---+--------------+\n",
      "|         1|10019|10020| TA|  T|   rs775809821|\n",
      "|         1|10020|10020|  A|  -|   rs775809821|\n",
      "|         1|10039|10039|  A|  C|   rs978760828|\n",
      "|         1|10043|10043|  T|  A|  rs1008829651|\n",
      "|         1|10051|10051|  A|  G|  rs1052373574|\n",
      "|         1|10055|10055|  -|  A|   rs768019142|\n",
      "|         1|10055|10055|  T|  A|   rs892501864|\n",
      "|         1|10055|10055|  T| TA|   rs768019142|\n",
      "|         1|10063|10063|  A|  C|  rs1010989343|\n",
      "|         1|10077|10077|  C|  G|  rs1022805358|\n",
      "|         1|10108|10108|  C|  T|    rs62651026|\n",
      "|         1|10109|10109|  A|  T|   rs376007522|\n",
      "|         1|10128|10128|  A| AC|   rs796688738|\n",
      "|         1|10128|10128|  -|  C|   rs796688738|\n",
      "|         1|10139|10139|  A|  T|   rs368469931|\n",
      "|         1|10144|10145| TA|  T|   rs144773400|\n",
      "|         1|10145|10145|  A|  -|   rs144773400|\n",
      "|         1|10146|10147| AC|  A|   rs779258992|\n",
      "|         1|10147|10147|  C|  -|   rs779258992|\n",
      "|         1|10150|10150|  C|  T|   rs371194064|\n",
      "+----------+-----+-----+---+---+--------------+\n",
      "only showing top 20 rows\n",
      "\n"
     ]
    }
   ],
   "source": [
    "hg19_avsnp150.show()"
   ]
  },
  {
   "cell_type": "code",
   "execution_count": 48,
   "metadata": {},
   "outputs": [],
   "source": [
    "hg19_avsnp150.write.format(\"org.apache.spark.sql.cassandra\").mode(\"append\").options(table=\"hg19_avsnp150\", keyspace=\"sequence_databases\").save()"
   ]
  },
  {
   "cell_type": "markdown",
   "metadata": {},
   "source": [
    "## Verificando a chave-primária"
   ]
  },
  {
   "cell_type": "code",
   "execution_count": 15,
   "metadata": {},
   "outputs": [],
   "source": [
    "hg19_abraom_df_pk = hg19_abraom_df.groupBy(hg19_abraom_df[\"chromosome\"], hg19_abraom_df[\"start\"], hg19_abraom_df[\"end\"], hg19_abraom_df[\"ref\"], hg19_abraom_df[\"alt\"]).count()"
   ]
  },
  {
   "cell_type": "code",
   "execution_count": 16,
   "metadata": {},
   "outputs": [
    {
     "name": "stdout",
     "output_type": "stream",
     "text": [
      "+----------+-----+---+---+---+-----+\n",
      "|chromosome|start|end|ref|alt|count|\n",
      "+----------+-----+---+---+---+-----+\n",
      "+----------+-----+---+---+---+-----+\n",
      "\n"
     ]
    }
   ],
   "source": [
    "hg19_abraom_df_pk.filter(hg19_abraom_df_pk[\"count\"] > 1).show()"
   ]
  },
  {
   "cell_type": "code",
   "execution_count": 17,
   "metadata": {},
   "outputs": [],
   "source": [
    "hg19_mcap_df_pk = hg19_mcap_df.groupBy(hg19_mcap_df[\"chromosome\"], hg19_mcap_df[\"start\"], hg19_mcap_df[\"end\"], hg19_mcap_df[\"ref\"], hg19_mcap_df[\"alt\"]).count()"
   ]
  },
  {
   "cell_type": "code",
   "execution_count": 18,
   "metadata": {},
   "outputs": [
    {
     "name": "stdout",
     "output_type": "stream",
     "text": [
      "+----------+-----+---+---+---+-----+\n",
      "|chromosome|start|end|ref|alt|count|\n",
      "+----------+-----+---+---+---+-----+\n",
      "+----------+-----+---+---+---+-----+\n",
      "\n"
     ]
    }
   ],
   "source": [
    "hg19_mcap_df_pk.filter(hg19_mcap_df_pk[\"count\"] > 1).show()"
   ]
  },
  {
   "cell_type": "code",
   "execution_count": 19,
   "metadata": {},
   "outputs": [],
   "source": [
    "hg19_clinvar_df_pk = hg19_clinvar_df.groupBy(hg19_clinvar_df[\"chromosome\"], hg19_clinvar_df[\"start\"], hg19_clinvar_df[\"end\"], hg19_clinvar_df[\"ref\"], hg19_clinvar_df[\"alt\"]).count()"
   ]
  },
  {
   "cell_type": "code",
   "execution_count": 20,
   "metadata": {},
   "outputs": [
    {
     "name": "stdout",
     "output_type": "stream",
     "text": [
      "+----------+---------+---------+---+---+-----+\n",
      "|chromosome|    start|      end|ref|alt|count|\n",
      "+----------+---------+---------+---+---+-----+\n",
      "|         4| 55164279| 55164279|  A|  G|    2|\n",
      "|         5| 52386489| 52386489|  G|  A|    2|\n",
      "|        11| 67228195| 67228195|  T|  G|    2|\n",
      "|        12| 57943862| 57943862|  G|  A|    2|\n",
      "|        14| 73688157| 73688157|  C|  T|    2|\n",
      "|        15| 65371224| 65371224|  T|  C|    2|\n",
      "|        16|  9849109|  9849109|  G|  A|    2|\n",
      "|        16| 75515719| 75515719|  G|  T|    2|\n",
      "|        17| 17116679| 17116679|  G|  A|    2|\n",
      "|         5|112180468|112180468|  A|  G|    2|\n",
      "|        10|  6054732|  6054732|  G|  A|    2|\n",
      "|        10| 27444116| 27444116|  G|  A|    2|\n",
      "|        19|  4095396|  4095396|  C|  T|    2|\n",
      "|        20| 52770297| 52770297|  G|  A|    2|\n",
      "|        21| 37851847| 37851847|  C|  T|    2|\n",
      "|        22| 26879684| 26879684|  C|  A|    2|\n",
      "|         X| 38280611| 38280611|  A|  G|    2|\n",
      "|         1|213068640|213068640|  G|  A|    2|\n",
      "|         2| 48010317| 48010317|  G|  T|    2|\n",
      "|         2| 88874265| 88874265|  G|  A|    2|\n",
      "+----------+---------+---------+---+---+-----+\n",
      "only showing top 20 rows\n",
      "\n"
     ]
    }
   ],
   "source": [
    "hg19_clinvar_df_pk.filter(hg19_clinvar_df_pk[\"count\"] > 1).show()"
   ]
  },
  {
   "cell_type": "code",
   "execution_count": 27,
   "metadata": {},
   "outputs": [],
   "source": [
    "hg19_clinvar_pandas_df = hg19_clinvar_df.where(\"chromosome = 4 AND start = 55164279 AND end = 55164279 AND ref = 'A' AND alt = 'G'\").select(\"*\").toPandas()"
   ]
  },
  {
   "cell_type": "code",
   "execution_count": 43,
   "metadata": {},
   "outputs": [
    {
     "data": {
      "text/plain": [
       "Index(['chromosome', 'start', 'end', 'ref', 'alt', 'clinsig', 'clndbn',\n",
       "       'clnacc', 'clndsdb', 'clndsdbid'],\n",
       "      dtype='object')"
      ]
     },
     "execution_count": 43,
     "metadata": {},
     "output_type": "execute_result"
    }
   ],
   "source": [
    "hg19_clinvar_pandas_df.columns"
   ]
  },
  {
   "cell_type": "code",
   "execution_count": 44,
   "metadata": {},
   "outputs": [
    {
     "data": {
      "text/plain": [
       "['Uncertain significance|Uncertain significance',\n",
       " 'Uncertain significance|Uncertain significance']"
      ]
     },
     "execution_count": 44,
     "metadata": {},
     "output_type": "execute_result"
    }
   ],
   "source": [
    "list(hg19_clinvar_pandas_df.clinsig)"
   ]
  },
  {
   "cell_type": "code",
   "execution_count": 45,
   "metadata": {},
   "outputs": [
    {
     "data": {
      "text/plain": [
       "['Idiopathic_hypereosinophilic_syndrome|Gastrointestinal_stromal_tumor',\n",
       " 'Idiopathic_hypereosinophilic_syndrome|Gastrointestinal_stromal_tumor']"
      ]
     },
     "execution_count": 45,
     "metadata": {},
     "output_type": "execute_result"
    }
   ],
   "source": [
    "list(hg19_clinvar_pandas_df.clndbn)"
   ]
  },
  {
   "cell_type": "code",
   "execution_count": 46,
   "metadata": {},
   "outputs": [
    {
     "data": {
      "text/plain": [
       "['RCV000305421.1|RCV000360112.1', 'RCV000305421.1|RCV000360112.1']"
      ]
     },
     "execution_count": 46,
     "metadata": {},
     "output_type": "execute_result"
    }
   ],
   "source": [
    "list(hg19_clinvar_pandas_df.clnacc)"
   ]
  },
  {
   "cell_type": "code",
   "execution_count": 47,
   "metadata": {},
   "outputs": [
    {
     "data": {
      "text/plain": [
       "['MedGen:OMIM:Orphanet|MeSH:MedGen:OMIM:Orphanet',\n",
       " 'MedGen:OMIM:Orphanet|MeSH:MedGen:OMIM:Orphanet']"
      ]
     },
     "execution_count": 47,
     "metadata": {},
     "output_type": "execute_result"
    }
   ],
   "source": [
    "list(hg19_clinvar_pandas_df.clndsdb)"
   ]
  },
  {
   "cell_type": "code",
   "execution_count": 48,
   "metadata": {},
   "outputs": [
    {
     "data": {
      "text/plain": [
       "['C0206141:607685:ORPHA3260|D046152:C0238198:606764:ORPHA44890',\n",
       " 'C0206141:607685:ORPHA3260|D046152:C0238198:606764:ORPHA44890']"
      ]
     },
     "execution_count": 48,
     "metadata": {},
     "output_type": "execute_result"
    }
   ],
   "source": [
    "list(hg19_clinvar_pandas_df.clndsdbid)"
   ]
  },
  {
   "cell_type": "code",
   "execution_count": 49,
   "metadata": {},
   "outputs": [
    {
     "name": "stdout",
     "output_type": "stream",
     "text": [
      "+----------+---------+---------+---+---+-----+\n",
      "|chromosome|    start|      end|ref|alt|count|\n",
      "+----------+---------+---------+---+---+-----+\n",
      "|         2|        1|        1|  0|  0|    8|\n",
      "|        11|108121410|108121410|  -|  T|    3|\n",
      "|        13|        1|        1|  0|  0|    3|\n",
      "|         1|        1|        1|  0|  0|    3|\n",
      "+----------+---------+---------+---+---+-----+\n",
      "\n"
     ]
    }
   ],
   "source": [
    "hg19_clinvar_df_pk.filter(hg19_clinvar_df_pk[\"count\"] > 2).show()"
   ]
  },
  {
   "cell_type": "code",
   "execution_count": 50,
   "metadata": {},
   "outputs": [],
   "source": [
    "hg19_clinvar_pandas_df2 = hg19_clinvar_df.where(\"chromosome = 2 AND start = 1 AND end = 1 AND ref = 0 AND alt = 0\").select(\"*\").toPandas()"
   ]
  },
  {
   "cell_type": "code",
   "execution_count": 51,
   "metadata": {},
   "outputs": [
    {
     "data": {
      "text/html": [
       "<div>\n",
       "<style scoped>\n",
       "    .dataframe tbody tr th:only-of-type {\n",
       "        vertical-align: middle;\n",
       "    }\n",
       "\n",
       "    .dataframe tbody tr th {\n",
       "        vertical-align: top;\n",
       "    }\n",
       "\n",
       "    .dataframe thead th {\n",
       "        text-align: right;\n",
       "    }\n",
       "</style>\n",
       "<table border=\"1\" class=\"dataframe\">\n",
       "  <thead>\n",
       "    <tr style=\"text-align: right;\">\n",
       "      <th></th>\n",
       "      <th>chromosome</th>\n",
       "      <th>start</th>\n",
       "      <th>end</th>\n",
       "      <th>ref</th>\n",
       "      <th>alt</th>\n",
       "      <th>clinsig</th>\n",
       "      <th>clndbn</th>\n",
       "      <th>clnacc</th>\n",
       "      <th>clndsdb</th>\n",
       "      <th>clndsdbid</th>\n",
       "    </tr>\n",
       "  </thead>\n",
       "  <tbody>\n",
       "    <tr>\n",
       "      <th>0</th>\n",
       "      <td>2</td>\n",
       "      <td>1</td>\n",
       "      <td>1</td>\n",
       "      <td>0</td>\n",
       "      <td>0</td>\n",
       "      <td>Likely pathogenic</td>\n",
       "      <td>Hereditary_cancer-predisposing_syndrome</td>\n",
       "      <td>RCV000491067.1</td>\n",
       "      <td>MedGen:SNOMED_CT</td>\n",
       "      <td>C0027672:699346009</td>\n",
       "    </tr>\n",
       "    <tr>\n",
       "      <th>1</th>\n",
       "      <td>2</td>\n",
       "      <td>1</td>\n",
       "      <td>1</td>\n",
       "      <td>0</td>\n",
       "      <td>0</td>\n",
       "      <td>Pathogenic</td>\n",
       "      <td>Cystinuria</td>\n",
       "      <td>RCV000497086.1</td>\n",
       "      <td>MedGen:OMIM:SNOMED_CT</td>\n",
       "      <td>C0010691:220100:85020001</td>\n",
       "    </tr>\n",
       "    <tr>\n",
       "      <th>2</th>\n",
       "      <td>2</td>\n",
       "      <td>1</td>\n",
       "      <td>1</td>\n",
       "      <td>0</td>\n",
       "      <td>0</td>\n",
       "      <td>Pathogenic</td>\n",
       "      <td>Hereditary_cancer-predisposing_syndrome</td>\n",
       "      <td>RCV000491083.1</td>\n",
       "      <td>MedGen:SNOMED_CT</td>\n",
       "      <td>C0027672:699346009</td>\n",
       "    </tr>\n",
       "    <tr>\n",
       "      <th>3</th>\n",
       "      <td>2</td>\n",
       "      <td>1</td>\n",
       "      <td>1</td>\n",
       "      <td>0</td>\n",
       "      <td>0</td>\n",
       "      <td>Pathogenic</td>\n",
       "      <td>Hereditary_cancer-predisposing_syndrome</td>\n",
       "      <td>RCV000491173.1</td>\n",
       "      <td>MedGen:SNOMED_CT</td>\n",
       "      <td>C0027672:699346009</td>\n",
       "    </tr>\n",
       "    <tr>\n",
       "      <th>4</th>\n",
       "      <td>2</td>\n",
       "      <td>1</td>\n",
       "      <td>1</td>\n",
       "      <td>0</td>\n",
       "      <td>0</td>\n",
       "      <td>Pathogenic</td>\n",
       "      <td>Hereditary_cancer-predisposing_syndrome</td>\n",
       "      <td>RCV000491228.1</td>\n",
       "      <td>MedGen:SNOMED_CT</td>\n",
       "      <td>C0027672:699346009</td>\n",
       "    </tr>\n",
       "    <tr>\n",
       "      <th>5</th>\n",
       "      <td>2</td>\n",
       "      <td>1</td>\n",
       "      <td>1</td>\n",
       "      <td>0</td>\n",
       "      <td>0</td>\n",
       "      <td>Pathogenic</td>\n",
       "      <td>Hereditary_cancer-predisposing_syndrome</td>\n",
       "      <td>RCV000491339.1</td>\n",
       "      <td>MedGen:SNOMED_CT</td>\n",
       "      <td>C0027672:699346009</td>\n",
       "    </tr>\n",
       "    <tr>\n",
       "      <th>6</th>\n",
       "      <td>2</td>\n",
       "      <td>1</td>\n",
       "      <td>1</td>\n",
       "      <td>0</td>\n",
       "      <td>0</td>\n",
       "      <td>Pathogenic</td>\n",
       "      <td>Hereditary_cancer-predisposing_syndrome</td>\n",
       "      <td>RCV000491574.1</td>\n",
       "      <td>MedGen:SNOMED_CT</td>\n",
       "      <td>C0027672:699346009</td>\n",
       "    </tr>\n",
       "    <tr>\n",
       "      <th>7</th>\n",
       "      <td>2</td>\n",
       "      <td>1</td>\n",
       "      <td>1</td>\n",
       "      <td>0</td>\n",
       "      <td>0</td>\n",
       "      <td>Uncertain significance</td>\n",
       "      <td>Ehlers-Danlos_syndrome\\x2c_type_4</td>\n",
       "      <td>RCV000496991.1</td>\n",
       "      <td>MedGen:OMIM:Orphanet:SNOMED_CT</td>\n",
       "      <td>C0268338:130050:ORPHA286:17025000</td>\n",
       "    </tr>\n",
       "  </tbody>\n",
       "</table>\n",
       "</div>"
      ],
      "text/plain": [
       "  chromosome start end ref alt                 clinsig  \\\n",
       "0          2     1   1   0   0       Likely pathogenic   \n",
       "1          2     1   1   0   0              Pathogenic   \n",
       "2          2     1   1   0   0              Pathogenic   \n",
       "3          2     1   1   0   0              Pathogenic   \n",
       "4          2     1   1   0   0              Pathogenic   \n",
       "5          2     1   1   0   0              Pathogenic   \n",
       "6          2     1   1   0   0              Pathogenic   \n",
       "7          2     1   1   0   0  Uncertain significance   \n",
       "\n",
       "                                    clndbn          clnacc  \\\n",
       "0  Hereditary_cancer-predisposing_syndrome  RCV000491067.1   \n",
       "1                               Cystinuria  RCV000497086.1   \n",
       "2  Hereditary_cancer-predisposing_syndrome  RCV000491083.1   \n",
       "3  Hereditary_cancer-predisposing_syndrome  RCV000491173.1   \n",
       "4  Hereditary_cancer-predisposing_syndrome  RCV000491228.1   \n",
       "5  Hereditary_cancer-predisposing_syndrome  RCV000491339.1   \n",
       "6  Hereditary_cancer-predisposing_syndrome  RCV000491574.1   \n",
       "7        Ehlers-Danlos_syndrome\\x2c_type_4  RCV000496991.1   \n",
       "\n",
       "                          clndsdb                          clndsdbid  \n",
       "0                MedGen:SNOMED_CT                 C0027672:699346009  \n",
       "1           MedGen:OMIM:SNOMED_CT           C0010691:220100:85020001  \n",
       "2                MedGen:SNOMED_CT                 C0027672:699346009  \n",
       "3                MedGen:SNOMED_CT                 C0027672:699346009  \n",
       "4                MedGen:SNOMED_CT                 C0027672:699346009  \n",
       "5                MedGen:SNOMED_CT                 C0027672:699346009  \n",
       "6                MedGen:SNOMED_CT                 C0027672:699346009  \n",
       "7  MedGen:OMIM:Orphanet:SNOMED_CT  C0268338:130050:ORPHA286:17025000  "
      ]
     },
     "execution_count": 51,
     "metadata": {},
     "output_type": "execute_result"
    }
   ],
   "source": [
    "hg19_clinvar_pandas_df2"
   ]
  },
  {
   "cell_type": "code",
   "execution_count": 52,
   "metadata": {},
   "outputs": [],
   "source": [
    "hg19_gnomad_exome_df_pk = hg19_gnomad_exome_df.groupBy(hg19_gnomad_exome_df[\"chromosome\"], hg19_gnomad_exome_df[\"start\"], hg19_gnomad_exome_df[\"end\"], hg19_gnomad_exome_df[\"ref\"], hg19_gnomad_exome_df[\"alt\"]).count()"
   ]
  },
  {
   "cell_type": "code",
   "execution_count": 53,
   "metadata": {},
   "outputs": [
    {
     "name": "stdout",
     "output_type": "stream",
     "text": [
      "+----------+---------+---------+--------------------+---+-----+\n",
      "|chromosome|    start|      end|                 ref|alt|count|\n",
      "+----------+---------+---------+--------------------+---+-----+\n",
      "|         1|152327436|152327667|TGAACTTGACCCATGTT...|  T|    2|\n",
      "|         1|152327437|152327667|GAACTTGACCCATGTTG...|  -|    2|\n",
      "+----------+---------+---------+--------------------+---+-----+\n",
      "\n"
     ]
    }
   ],
   "source": [
    "hg19_gnomad_exome_df_pk.filter(\"count > 1\").show()"
   ]
  },
  {
   "cell_type": "code",
   "execution_count": 55,
   "metadata": {},
   "outputs": [],
   "source": [
    "hg19_gnomad_exome_pandas_df = hg19_gnomad_exome_df.where(\"chromosome = 1 AND start = 152327436 AND end = 152327667 AND alt = 'T'\").select(\"*\").toPandas()"
   ]
  },
  {
   "cell_type": "code",
   "execution_count": 57,
   "metadata": {},
   "outputs": [
    {
     "data": {
      "text/plain": [
       "['TGAACTTGACCCATGTTGACCATAGCCAGATGACTGACTTGAGCCAGAACCATGTTGGCCATAGCTAGACTGATGTGATCTAGACTCATGTTGTCCAAAACCAGAGTATTGTCCTGAGCCAGTCCCATGTTGTCCAAAGCCACTGGACTGACCTGAGCCTGATCCATGTTGTCCAAAGCCAGAGTATTGACCTGAGCTTGACCTGTGTTGTCCAAAGCCAGATGTCTGTCCC',\n",
       " 'TGAACTTGACCCATGTTGACCATAGCCAGATGACTGACTTGAGCCAGAACCATGTTGGCCATAGCTAGACTGATGTGATCTAGACTCATGTTGTCCAAAACCAGAGTATTGTCCTGAGCCAGTCCCATGTTGTCCAAAGCCACTGGACTGACCTGAGCCTGATCCATGTTGTCCAAAGCCAGAGTATTGACCTGAGCTTGACCTGTGTTGTCCAAAGCCAGATGTCTGTCCC']"
      ]
     },
     "execution_count": 57,
     "metadata": {},
     "output_type": "execute_result"
    }
   ],
   "source": [
    "list(hg19_gnomad_exome_pandas_df.ref)"
   ]
  },
  {
   "cell_type": "code",
   "execution_count": 58,
   "metadata": {},
   "outputs": [
    {
     "data": {
      "text/html": [
       "<div>\n",
       "<style scoped>\n",
       "    .dataframe tbody tr th:only-of-type {\n",
       "        vertical-align: middle;\n",
       "    }\n",
       "\n",
       "    .dataframe tbody tr th {\n",
       "        vertical-align: top;\n",
       "    }\n",
       "\n",
       "    .dataframe thead th {\n",
       "        text-align: right;\n",
       "    }\n",
       "</style>\n",
       "<table border=\"1\" class=\"dataframe\">\n",
       "  <thead>\n",
       "    <tr style=\"text-align: right;\">\n",
       "      <th></th>\n",
       "      <th>chromosome</th>\n",
       "      <th>start</th>\n",
       "      <th>end</th>\n",
       "      <th>ref</th>\n",
       "      <th>alt</th>\n",
       "      <th>gnomad_exome_all</th>\n",
       "      <th>gnomad_exome_afr</th>\n",
       "      <th>gnomad_exome_amr</th>\n",
       "      <th>gnomad_exome_asj</th>\n",
       "      <th>gnomad_exome_eas</th>\n",
       "      <th>gnomad_exome_fin</th>\n",
       "      <th>gnomad_exome_nfe</th>\n",
       "      <th>gnomad_exome_oth</th>\n",
       "      <th>gnomad_exome_sas</th>\n",
       "    </tr>\n",
       "  </thead>\n",
       "  <tbody>\n",
       "    <tr>\n",
       "      <th>0</th>\n",
       "      <td>1</td>\n",
       "      <td>152327436</td>\n",
       "      <td>152327667</td>\n",
       "      <td>TGAACTTGACCCATGTTGACCATAGCCAGATGACTGACTTGAGCCA...</td>\n",
       "      <td>T</td>\n",
       "      <td>0.0331</td>\n",
       "      <td>0.0008</td>\n",
       "      <td>0.0719</td>\n",
       "      <td>0.0411</td>\n",
       "      <td>0.1446</td>\n",
       "      <td>0.0056</td>\n",
       "      <td>0.0104</td>\n",
       "      <td>0.0362</td>\n",
       "      <td>0.0442</td>\n",
       "    </tr>\n",
       "    <tr>\n",
       "      <th>1</th>\n",
       "      <td>1</td>\n",
       "      <td>152327436</td>\n",
       "      <td>152327667</td>\n",
       "      <td>TGAACTTGACCCATGTTGACCATAGCCAGATGACTGACTTGAGCCA...</td>\n",
       "      <td>T</td>\n",
       "      <td>0.1454</td>\n",
       "      <td>0.0226</td>\n",
       "      <td>0.2242</td>\n",
       "      <td>0.2013</td>\n",
       "      <td>0.2374</td>\n",
       "      <td>0.1100</td>\n",
       "      <td>0.1163</td>\n",
       "      <td>0.1548</td>\n",
       "      <td>0.1997</td>\n",
       "    </tr>\n",
       "  </tbody>\n",
       "</table>\n",
       "</div>"
      ],
      "text/plain": [
       "  chromosome      start        end  \\\n",
       "0          1  152327436  152327667   \n",
       "1          1  152327436  152327667   \n",
       "\n",
       "                                                 ref alt gnomad_exome_all  \\\n",
       "0  TGAACTTGACCCATGTTGACCATAGCCAGATGACTGACTTGAGCCA...   T           0.0331   \n",
       "1  TGAACTTGACCCATGTTGACCATAGCCAGATGACTGACTTGAGCCA...   T           0.1454   \n",
       "\n",
       "  gnomad_exome_afr gnomad_exome_amr gnomad_exome_asj gnomad_exome_eas  \\\n",
       "0           0.0008           0.0719           0.0411           0.1446   \n",
       "1           0.0226           0.2242           0.2013           0.2374   \n",
       "\n",
       "  gnomad_exome_fin gnomad_exome_nfe gnomad_exome_oth gnomad_exome_sas  \n",
       "0           0.0056           0.0104           0.0362           0.0442  \n",
       "1           0.1100           0.1163           0.1548           0.1997  "
      ]
     },
     "execution_count": 58,
     "metadata": {},
     "output_type": "execute_result"
    }
   ],
   "source": [
    "hg19_gnomad_exome_pandas_df"
   ]
  },
  {
   "cell_type": "code",
   "execution_count": 59,
   "metadata": {},
   "outputs": [],
   "source": [
    "hg19_gnomad_exome_pandas_df2 = hg19_gnomad_exome_df.where(\"chromosome = 1 AND start = 152327437 AND end = 152327667 AND alt = '-'\").select(\"*\").toPandas()"
   ]
  },
  {
   "cell_type": "code",
   "execution_count": 60,
   "metadata": {},
   "outputs": [
    {
     "data": {
      "text/plain": [
       "['GAACTTGACCCATGTTGACCATAGCCAGATGACTGACTTGAGCCAGAACCATGTTGGCCATAGCTAGACTGATGTGATCTAGACTCATGTTGTCCAAAACCAGAGTATTGTCCTGAGCCAGTCCCATGTTGTCCAAAGCCACTGGACTGACCTGAGCCTGATCCATGTTGTCCAAAGCCAGAGTATTGACCTGAGCTTGACCTGTGTTGTCCAAAGCCAGATGTCTGTCCC',\n",
       " 'GAACTTGACCCATGTTGACCATAGCCAGATGACTGACTTGAGCCAGAACCATGTTGGCCATAGCTAGACTGATGTGATCTAGACTCATGTTGTCCAAAACCAGAGTATTGTCCTGAGCCAGTCCCATGTTGTCCAAAGCCACTGGACTGACCTGAGCCTGATCCATGTTGTCCAAAGCCAGAGTATTGACCTGAGCTTGACCTGTGTTGTCCAAAGCCAGATGTCTGTCCC']"
      ]
     },
     "execution_count": 60,
     "metadata": {},
     "output_type": "execute_result"
    }
   ],
   "source": [
    "list(hg19_gnomad_exome_pandas_df2.ref)"
   ]
  },
  {
   "cell_type": "code",
   "execution_count": 61,
   "metadata": {},
   "outputs": [
    {
     "data": {
      "text/html": [
       "<div>\n",
       "<style scoped>\n",
       "    .dataframe tbody tr th:only-of-type {\n",
       "        vertical-align: middle;\n",
       "    }\n",
       "\n",
       "    .dataframe tbody tr th {\n",
       "        vertical-align: top;\n",
       "    }\n",
       "\n",
       "    .dataframe thead th {\n",
       "        text-align: right;\n",
       "    }\n",
       "</style>\n",
       "<table border=\"1\" class=\"dataframe\">\n",
       "  <thead>\n",
       "    <tr style=\"text-align: right;\">\n",
       "      <th></th>\n",
       "      <th>chromosome</th>\n",
       "      <th>start</th>\n",
       "      <th>end</th>\n",
       "      <th>ref</th>\n",
       "      <th>alt</th>\n",
       "      <th>gnomad_exome_all</th>\n",
       "      <th>gnomad_exome_afr</th>\n",
       "      <th>gnomad_exome_amr</th>\n",
       "      <th>gnomad_exome_asj</th>\n",
       "      <th>gnomad_exome_eas</th>\n",
       "      <th>gnomad_exome_fin</th>\n",
       "      <th>gnomad_exome_nfe</th>\n",
       "      <th>gnomad_exome_oth</th>\n",
       "      <th>gnomad_exome_sas</th>\n",
       "    </tr>\n",
       "  </thead>\n",
       "  <tbody>\n",
       "    <tr>\n",
       "      <th>0</th>\n",
       "      <td>1</td>\n",
       "      <td>152327437</td>\n",
       "      <td>152327667</td>\n",
       "      <td>GAACTTGACCCATGTTGACCATAGCCAGATGACTGACTTGAGCCAG...</td>\n",
       "      <td>-</td>\n",
       "      <td>0.0331</td>\n",
       "      <td>0.0008</td>\n",
       "      <td>0.0719</td>\n",
       "      <td>0.0411</td>\n",
       "      <td>0.1446</td>\n",
       "      <td>0.0056</td>\n",
       "      <td>0.0104</td>\n",
       "      <td>0.0362</td>\n",
       "      <td>0.0442</td>\n",
       "    </tr>\n",
       "    <tr>\n",
       "      <th>1</th>\n",
       "      <td>1</td>\n",
       "      <td>152327437</td>\n",
       "      <td>152327667</td>\n",
       "      <td>GAACTTGACCCATGTTGACCATAGCCAGATGACTGACTTGAGCCAG...</td>\n",
       "      <td>-</td>\n",
       "      <td>0.1454</td>\n",
       "      <td>0.0226</td>\n",
       "      <td>0.2242</td>\n",
       "      <td>0.2013</td>\n",
       "      <td>0.2374</td>\n",
       "      <td>0.1100</td>\n",
       "      <td>0.1163</td>\n",
       "      <td>0.1548</td>\n",
       "      <td>0.1997</td>\n",
       "    </tr>\n",
       "  </tbody>\n",
       "</table>\n",
       "</div>"
      ],
      "text/plain": [
       "  chromosome      start        end  \\\n",
       "0          1  152327437  152327667   \n",
       "1          1  152327437  152327667   \n",
       "\n",
       "                                                 ref alt gnomad_exome_all  \\\n",
       "0  GAACTTGACCCATGTTGACCATAGCCAGATGACTGACTTGAGCCAG...   -           0.0331   \n",
       "1  GAACTTGACCCATGTTGACCATAGCCAGATGACTGACTTGAGCCAG...   -           0.1454   \n",
       "\n",
       "  gnomad_exome_afr gnomad_exome_amr gnomad_exome_asj gnomad_exome_eas  \\\n",
       "0           0.0008           0.0719           0.0411           0.1446   \n",
       "1           0.0226           0.2242           0.2013           0.2374   \n",
       "\n",
       "  gnomad_exome_fin gnomad_exome_nfe gnomad_exome_oth gnomad_exome_sas  \n",
       "0           0.0056           0.0104           0.0362           0.0442  \n",
       "1           0.1100           0.1163           0.1548           0.1997  "
      ]
     },
     "execution_count": 61,
     "metadata": {},
     "output_type": "execute_result"
    }
   ],
   "source": [
    "hg19_gnomad_exome_pandas_df2"
   ]
  },
  {
   "cell_type": "code",
   "execution_count": 62,
   "metadata": {},
   "outputs": [],
   "source": [
    "hg19_revel_df_pk = hg19_revel_df.groupBy(hg19_revel_df[\"chromosome\"], hg19_revel_df[\"start\"], hg19_revel_df[\"end\"], hg19_revel_df[\"ref\"], hg19_revel_df[\"alt\"]).count()"
   ]
  },
  {
   "cell_type": "code",
   "execution_count": 63,
   "metadata": {},
   "outputs": [
    {
     "name": "stdout",
     "output_type": "stream",
     "text": [
      "+----------+---------+---------+---+---+-----+\n",
      "|chromosome|    start|      end|ref|alt|count|\n",
      "+----------+---------+---------+---+---+-----+\n",
      "|         1|   865692|   865692|  C|  G|    2|\n",
      "|         1|   866454|   866454|  G|  C|    2|\n",
      "|         1|   874463|   874463|  C|  G|    2|\n",
      "|         1|   874489|   874489|  C|  G|    2|\n",
      "|         1|   874757|   874757|  C|  G|    2|\n",
      "|         1|   877545|   877545|  C|  G|    2|\n",
      "|         1|   877587|   877587|  G|  A|    2|\n",
      "|         1|   877833|   877833|  G|  T|    2|\n",
      "|         1|   878007|   878007|  C|  T|    2|\n",
      "|         1|   878045|   878045|  C|  G|    2|\n",
      "|         1|   878184|   878184|  C|  T|    2|\n",
      "|         1|   878247|   878247|  A|  G|    2|\n",
      "|         1|   879289|   879289|  T|  C|    2|\n",
      "|         1|   879298|   879298|  G|  A|    2|\n",
      "|         1|   879522|   879522|  C|  A|    2|\n",
      "|         1|100174642|100174642|  T|  A|    2|\n",
      "|         1|100487953|100487953|  T|  G|    2|\n",
      "|         1|101427391|101427391|  C|  G|    2|\n",
      "|         1|101431381|101431381|  T|  G|    2|\n",
      "|         1|101431439|101431439|  T|  G|    2|\n",
      "+----------+---------+---------+---+---+-----+\n",
      "only showing top 20 rows\n",
      "\n"
     ]
    }
   ],
   "source": [
    "hg19_revel_df_pk.filter(\"count > 1\").show()"
   ]
  },
  {
   "cell_type": "code",
   "execution_count": 66,
   "metadata": {},
   "outputs": [
    {
     "name": "stdout",
     "output_type": "stream",
     "text": [
      "+----------+------+------+---+---+-----+\n",
      "|chromosome| start|   end|ref|alt|revel|\n",
      "+----------+------+------+---+---+-----+\n",
      "|         1|865692|865692|  C|  G|0.072|\n",
      "|         1|865692|865692|  C|  G|0.038|\n",
      "+----------+------+------+---+---+-----+\n",
      "\n"
     ]
    }
   ],
   "source": [
    "hg19_revel_df.where(\"chromosome = 1 AND start = 865692 AND end = 865692 AND ref = 'C' AND alt = 'G'\").select('*').show()"
   ]
  },
  {
   "cell_type": "code",
   "execution_count": null,
   "metadata": {},
   "outputs": [],
   "source": []
  }
 ],
 "metadata": {
  "kernelspec": {
   "display_name": "Python 3",
   "language": "python",
   "name": "python3"
  },
  "language_info": {
   "codemirror_mode": {
    "name": "ipython",
    "version": 3
   },
   "file_extension": ".py",
   "mimetype": "text/x-python",
   "name": "python",
   "nbconvert_exporter": "python",
   "pygments_lexer": "ipython3",
   "version": "3.6.6"
  }
 },
 "nbformat": 4,
 "nbformat_minor": 2
}
